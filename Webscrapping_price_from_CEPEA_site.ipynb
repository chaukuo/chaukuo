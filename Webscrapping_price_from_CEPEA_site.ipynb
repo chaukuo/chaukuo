{
 "cells": [
  {
   "cell_type": "markdown",
   "metadata": {},
   "source": [
    "# Webscrapping meat commodities prices"
   ]
  },
  {
   "cell_type": "markdown",
   "metadata": {},
   "source": [
    "<h>"
   ]
  },
  {
   "cell_type": "markdown",
   "metadata": {},
   "source": [
    "## Main objective is to get the most recent value/price at CEPEA site, the same with the date, and transport the number to an Excel database"
   ]
  },
  {
   "cell_type": "markdown",
   "metadata": {},
   "source": [
    "### The task of this script is as follow:"
   ]
  },
  {
   "cell_type": "markdown",
   "metadata": {},
   "source": [
    "- access site\n",
    "- webscrapp and get most recent price\n",
    "- convert to Brazil's number format and convert from string to float\n",
    "- get the date of the price\n",
    "- convert string into date\n",
    "- create dateframe format\n",
    "- transfer values of dataframe to Excel"
   ]
  },
  {
   "cell_type": "markdown",
   "metadata": {},
   "source": [
    "<h>"
   ]
  },
  {
   "cell_type": "markdown",
   "metadata": {},
   "source": [
    "### Installing the necessary libraries"
   ]
  },
  {
   "cell_type": "code",
   "execution_count": null,
   "metadata": {},
   "outputs": [],
   "source": [
    "!pip install lxml\n",
    "!pip install bs4"
   ]
  },
  {
   "cell_type": "markdown",
   "metadata": {},
   "source": [
    "### Importing libraries"
   ]
  },
  {
   "cell_type": "code",
   "execution_count": 1,
   "metadata": {},
   "outputs": [],
   "source": [
    "import requests\n",
    "from bs4 import BeautifulSoup\n",
    "from urllib.request import urlopen\n",
    "import csv\n",
    "import pandas as pd"
   ]
  },
  {
   "cell_type": "markdown",
   "metadata": {},
   "source": [
    "##### Getting the reponse from the page using get method of requests module"
   ]
  },
  {
   "cell_type": "code",
   "execution_count": 2,
   "metadata": {},
   "outputs": [],
   "source": [
    "source = requests.get('https://www.cepea.esalq.usp.br/br/indicador/frango.aspx')"
   ]
  },
  {
   "cell_type": "markdown",
   "metadata": {},
   "source": [
    "##### Each webpage that you view in your browser is actually structured in HyperText Markup Language (HTML). It has two parts, head which includes the title and any imports for styling and JavaScript and the body which includes the content that gets displayed as a webpage. We’re interested in the body of the webpage"
   ]
  },
  {
   "cell_type": "code",
   "execution_count": 3,
   "metadata": {},
   "outputs": [],
   "source": [
    "## creating BeautifulSoup object"
   ]
  },
  {
   "cell_type": "code",
   "execution_count": 4,
   "metadata": {},
   "outputs": [],
   "source": [
    "soup = BeautifulSoup(source.content, 'html.parser')"
   ]
  },
  {
   "cell_type": "code",
   "execution_count": 5,
   "metadata": {
    "collapsed": true
   },
   "outputs": [
    {
     "data": {
      "text/plain": [
       "<!DOCTYPE html>\n",
       "\n",
       "<html lang=\"pt-br\">\n",
       "<head>\n",
       "<!-- Google Tag Manager Imagenet R-->\n",
       "<script>(function(w,d,s,l,i){w[l]=w[l]||[];w[l].push({'gtm.start':\n",
       "    new Date().getTime(),event:'gtm.js'});var f=d.getElementsByTagName(s)[0],\n",
       "    j=d.createElement(s),dl=l!='dataLayer'?'&l='+l:'';j.async=true;j.src=\n",
       "    'https://www.googletagmanager.com/gtm.js?id='+i+dl;f.parentNode.insertBefore(j,f);\n",
       "    })(window,document,'script','dataLayer','GTM-W622ZZ4');</script>\n",
       "<!-- End Google Tag Manager Imagenet R -->\n",
       "<meta charset=\"utf-8\"/>\n",
       "<title>Frango - Centro de Estudos Avançados em Economia Aplicada - CEPEA-Esalq/USP</title>\n",
       "<meta content=\"A891y5Pwb7q0DpiDBklD9DQe-Gy2Fk1k7UxSvrkHhaA\" name=\"google-site-verification\"/>\n",
       "<meta content=\"frango\" name=\"description\"/>\n",
       "<meta content=\"frango\" name=\"keywords\"/>\n",
       "<meta content=\"Imagenet Tecnologia\" name=\"author\"/>\n",
       "<meta content=\"\" name=\"geo.placename\">\n",
       "<meta content=\";\" name=\"geo.position\">\n",
       "<meta content=\"\" name=\"geo.region\">\n",
       "<meta content=\", \" name=\"ICBM\"/>\n",
       "<meta content=\"Frango - Centro de Estudos Avançados em Economia Aplicada - CEPEA-Esalq/USP\" name=\"DC.Title\"/>\n",
       "<meta content=\"Imagenet Tecnologia\" name=\"DC.Creator\"/>\n",
       "<meta content=\"frango\" name=\"DC.Description\"/>\n",
       "<meta content=\"Imagenet Tecnologia\" name=\"DC.Publisher\"/>\n",
       "<meta content=\"Desenvolvimento de Sites\" name=\"DC.Type\"/>\n",
       "<meta content=\"BR\" name=\"DC.Language\"/>\n",
       "<meta content=\"width=device-width\" name=\"viewport\"/>\n",
       "<link href=\"https://www.cepea.esalq.usp.br/favicon.png\" rel=\"icon\" type=\"image/x-icon\"/>\n",
       "<link href=\"https://www.cepea.esalq.usp.br/view/css/default.css?v=2\" rel=\"stylesheet\" type=\"text/css\"/>\n",
       "<link href=\"https://www.cepea.esalq.usp.br/view/css/font-awesome/css/font-awesome.min.css\" rel=\"stylesheet\" type=\"text/css\"/>\n",
       "<link href=\"https://www.cepea.esalq.usp.br/view/css/magnific-popup.css\" rel=\"stylesheet\" type=\"text/css\"/>\n",
       "<script>\n",
       "  (function(i,s,o,g,r,a,m){i['GoogleAnalyticsObject']=r;i[r]=i[r]||function(){\n",
       "  (i[r].q=i[r].q||[]).push(arguments)},i[r].l=1*new Date();a=s.createElement(o),\n",
       "  m=s.getElementsByTagName(o)[0];a.async=1;a.src=g;m.parentNode.insertBefore(a,m)\n",
       "  })(window,document,'script','//www.google-analytics.com/analytics.js','ga');\n",
       "\n",
       "  ga('create', 'UA-42674408-1', 'usp.br');\n",
       "  ga('send', 'pageview');\n",
       "\n",
       "</script></meta></meta></meta></head>\n",
       "<body>\n",
       "<!-- Google Tag Manager (noscript) Imagenet R-->\n",
       "<noscript><iframe height=\"0\" src=\"https://www.googletagmanager.com/ns.html?id=GTM-W622ZZ4\" style=\"display:none;visibility:hidden\" width=\"0\"></iframe></noscript>\n",
       "<!-- End Google Tag Manager (noscript) Imagenet R-->\n",
       "<div id=\"imagenet-body\">\n",
       "<div class=\"imagenet-topo-fixo\">\n",
       "<div id=\"imagenet-header\">\n",
       "<div class=\"imagenet-col-max imagenet-ma\">\n",
       "<div class=\"imagenet-col-5 imagenet-fl\">\n",
       "<div id=\"imagenet-logos\">\n",
       "<a href=\"https://www.cepea.esalq.usp.br/br\"><img alt=\"CEPEA - Centro de Estudos Avançados em Economia Aplicada\" src=\"https://www.cepea.esalq.usp.br/view/imagens/cepea.png\" title=\"CEPEA - Centro de Estudos Avançados em Economia Aplicada\"/></a>\n",
       "<a href=\"https://www.esalq.usp.br/\" target=\"_blank\"><img alt=\"ESALQ - Escola Superior de Agricultura Luiz de Queiroz\" src=\"https://www.cepea.esalq.usp.br/view/imagens/esalq.png\" title=\"ESALQ - Escola Superior de Agricultura Luiz de Queiroz\"/></a>\n",
       "<a href=\"http://www5.usp.br/\" target=\"_blank\"><img alt=\"USP - Universidade de São Paulo\" src=\"https://www.cepea.esalq.usp.br/view/imagens/usp.png\" title=\"USP - Universidade de São Paulo\"/></a>\n",
       "</div>\n",
       "</div>\n",
       "<div class=\"imagenet-col-5 imagenet-fl\">\n",
       "<div class=\"imagenet-col-12 imagenet-fl imagenet-box-header\">\n",
       "<div class=\"imagenet-toggle\">\n",
       "<div>\n",
       "<a class=\"imagenet-strong-cepea\" href=\"https://www.cepea.esalq.usp.br/en\">English</a>\n",
       "</div>\n",
       "</div>\n",
       "<form action=\"https://www.cepea.esalq.usp.br/br/busca.aspx\" id=\"imagenet-form-search\" method=\"get\">\n",
       "<input id=\"imagenet-input-search\" name=\"busca\" type=\"text\" value=\"\"/>\n",
       "<input id=\"imagenet-submit-search\" type=\"submit\" value=\"\"/>\n",
       "</form>\n",
       "</div>\n",
       "<div class=\"imagenet-box-header\">\n",
       "<div class=\"imagenet-2 imagenet-fr\" id=\"imagenet-rede-social-header\">\n",
       "<a href=\"https://www.facebook.com/cepea.esalq\" target=\"_blank\"><img alt=\"Facebook - CEPEA\" src=\"https://www.cepea.esalq.usp.br/view/imagens/facebook.png\" title=\"Facebook - CEPEA\"/></a>\n",
       "<a href=\"http://twitter.com/CepeaEsalq\" target=\"_blank\"><img alt=\"Twitter - CEPEA\" src=\"https://www.cepea.esalq.usp.br/view/imagens/twitter.png\" title=\"Twitter - CEPEA\"/></a>\n",
       "<a href=\"https://youtu.be/XxXuSNZnKsk\" target=\"_blank\"><img alt=\"Youtube - CEPEA\" src=\"https://www.cepea.esalq.usp.br/view/imagens/youtube.png\" title=\"Youtube - CEPEA\"/></a>\n",
       "<a href=\"https://www.linkedin.com/company/10173312?trk=tyah&amp;trkInfo=clickedVertical%3Acompany%2CclickedEntityId%3A10173312%2Cidx%3A2-1-2%2CtarId%3A1469045025691%2Ctas%3Acepea\" target=\"_blank\"><img alt=\"LinkedIn - CEPEA\" src=\"https://www.cepea.esalq.usp.br/view/imagens/linkedin.png\" title=\"LinkedIn - CEPEA\"/></a>\n",
       "<a href=\"https://www.instagram.com/cepea_esalq_usp\" target=\"_blank\"><img alt=\"Instagram - CEPEA\" src=\"https://www.cepea.esalq.usp.br/view/imagens/instagram.png\" title=\"Instagram - CEPEA\"/></a>\n",
       "</div>\n",
       "<div class=\"imagenet-links-header imagenet-col-6 imagenet-fr\">\n",
       "<a href=\"https://www.cepea.esalq.usp.br/br/contato.aspx\">contato</a>\n",
       "<a href=\"https://www.cepea.esalq.usp.br/br/imprensa.aspx\">Imprensa</a>\n",
       "<a href=\"https://www.cepea.esalq.usp.br/br/sobre-o-cepea.aspx\">Institucional</a> </div>\n",
       "</div>\n",
       "</div>\n",
       "</div>\n",
       "</div>\n",
       "<div class=\"imagenet-fl imagenet-col-12\" id=\"imagenet-menu\">\n",
       "<div class=\"imagenet-dn\" id=\"imagenet-btn-menu-responsivo\">.: Menu :.</div>\n",
       "<ul class=\"imagenet-col-max imagenet-ma\">\n",
       "<li class=\"imagenet-menu-ul-li\">\n",
       "<a href=\"#\">Preços agropecuários</a>\n",
       "<ul class=\"dropdown imagenet-menu-ul-sub\">\n",
       "<li class=\"dropdown-colunas imagenet-menu-ul-li-sub\">\n",
       "<ul>\n",
       "<li><a href=\"https://www.cepea.esalq.usp.br/br/indicador/acucar.aspx\" target=\"_self\">Açúcar</a></li>\n",
       "<li><a href=\"https://www.cepea.esalq.usp.br/br/indicador/algodao.aspx\" target=\"_self\">Algodão</a></li>\n",
       "<li><a href=\"https://www.cepea.esalq.usp.br/br/indicador/arroz.aspx\" target=\"_self\">Arroz</a></li>\n",
       "<li><a href=\"https://www.cepea.esalq.usp.br/br/indicador/bezerro.aspx\" target=\"_self\">Bezerro</a></li>\n",
       "<li><a href=\"https://www.cepea.esalq.usp.br/br/indicador/boi-gordo.aspx\" target=\"_self\">Boi</a></li>\n",
       "</ul><ul>\n",
       "<li><a href=\"https://www.cepea.esalq.usp.br/br/indicador/cafe.aspx\" target=\"_self\">Café</a></li>\n",
       "<li><a href=\"https://www.cepea.esalq.usp.br/br/indicador/citros.aspx\" target=\"_self\">Citros</a></li>\n",
       "<li><a href=\"https://www.cepea.esalq.usp.br/br/indicador/etanol.aspx\" target=\"_self\">Etanol</a></li>\n",
       "<li><a href=\"https://www.cepea.esalq.usp.br/br/indicador/frango.aspx\" target=\"_self\">Frango</a></li>\n",
       "<li><a href=\"https://www.cepea.esalq.usp.br/br/categoria/florestal.aspx\" target=\"_self\">Florestal</a></li>\n",
       "<li><a href=\"https://www.cepea.esalq.usp.br/br/hortifruti.aspx\" target=\"_blank\">Hortifrúti</a></li>\n",
       "</ul><ul>\n",
       "<li><a href=\"https://www.cepea.esalq.usp.br/br/indicador/leite.aspx\" target=\"_self\">Leite</a></li>\n",
       "<li><a href=\"https://www.cepea.esalq.usp.br/br/indicador/mandioca.aspx\" target=\"_self\">Mandioca</a></li>\n",
       "<li><a href=\"https://www.cepea.esalq.usp.br/br/indicador/milho.aspx\" target=\"_self\">Milho</a></li>\n",
       "<li><a href=\"https://www.cepea.esalq.usp.br/br/indicador/ovinos.aspx\" target=\"_self\">Ovinos</a></li>\n",
       "<li><a href=\"https://www.cepea.esalq.usp.br/br/indicador/ovos.aspx\" target=\"_self\">Ovos</a></li>\n",
       "</ul><ul>\n",
       "<li><a href=\"https://www.cepea.esalq.usp.br/br/indicador/soja.aspx\" target=\"_self\">Soja</a></li>\n",
       "<li><a href=\"https://www.cepea.esalq.usp.br/br/indicador/suino.aspx\" target=\"_self\">Suíno</a></li>\n",
       "<li><a href=\"https://www.cepea.esalq.usp.br/br/tilapia.aspx\" target=\"_self\">Tilápia</a></li>\n",
       "<li><a href=\"https://www.cepea.esalq.usp.br/br/indicador/trigo.aspx\" target=\"_self\">Trigo</a></li>\n",
       "</ul>\n",
       "</li>\n",
       "</ul>\n",
       "</li>\n",
       "<li class=\"imagenet-menu-ul-li\">\n",
       "<a href=\"https://www.cepea.esalq.usp.br/br/gestao-do-negocio-agropecuario.aspx\" target=\"_self\">Custos e gestão</a>\n",
       "</li>\n",
       "<li class=\"imagenet-menu-ul-li\">\n",
       "<a href=\"https://www.cepea.esalq.usp.br/br/indices-de-exportacao-do-agronegocio.aspx\" target=\"_self\">Exportação agro</a>\n",
       "</li>\n",
       "<li class=\"imagenet-menu-ul-li\">\n",
       "<a href=\"https://www.cepea.esalq.usp.br/br/ippa.aspx\" target=\"_self\">IPPA</a>\n",
       "</li>\n",
       "<li class=\"imagenet-menu-ul-li\">\n",
       "<a href=\"#\">PIB Agro</a>\n",
       "<ul class=\"dropdown imagenet-menu-ul-sub\">\n",
       "<li class=\"imagenet-menu-ul-li-sub\"><a href=\"/br/pib-do-agronegocio-brasileiro.aspx\" target=\"_self\">PIB Brasil</a></li>\n",
       "<li class=\"imagenet-menu-ul-li-sub\"><a href=\"https://www.cepea.esalq.usp.br/br/pib-do-agronegocio-de-sao-paulo.aspx\" target=\"_self\">PIB SP</a></li>\n",
       "<li class=\"imagenet-menu-ul-li-sub\"><a href=\"https://www.cepea.esalq.usp.br/br/pib-do-agronegocio-de-minas-gerais.aspx\" target=\"_self\">PIB  MG</a></li>\n",
       "<li class=\"imagenet-menu-ul-li-sub\"><a href=\"https://www.cepea.esalq.usp.br/br/pib-de-cadeias-agropecuarias.aspx\" target=\"_self\">PIB Cadeia Agropecuária</a></li>\n",
       "</ul>\n",
       "</li>\n",
       "<li class=\"imagenet-menu-ul-li\">\n",
       "<a href=\"https://www.cepea.esalq.usp.br/br/mercado-de-trabalho-do-agronegocio.aspx\" target=\"_self\">Mercado de Trabalho</a>\n",
       "</li>\n",
       "<li class=\"imagenet-menu-ul-li\">\n",
       "<a href=\"https://www.cepea.esalq.usp.br/br/politica-agropecuaria.aspx\" target=\"_self\">Política agropecuária</a>\n",
       "</li>\n",
       "</ul>\n",
       "</div>\n",
       "</div>\n",
       "<div id=\"imagenet-wrap-categoria\">\n",
       "<img alt=\"\" src=\"https://www.cepea.esalq.usp.br/upload/banner/0670847001464028576.jpg\" title=\"\"/>\n",
       "<div id=\"imagenet-categoria\">\n",
       "<div class=\"imagenet-dn\" id=\"imagenet-btn-categoria-responsivo\">.: Indicadores :.</div>\n",
       "<div class=\"imagenet-col-max imagenet-ma\">\n",
       "<ul class=\"imagenet-seg-menu-indicador\">\n",
       "<li><a href=\"https://www.cepea.esalq.usp.br/br/indicador/acucar.aspx\" target=\"_self\">açúcar</a></li>\n",
       "<li><a href=\"https://www.cepea.esalq.usp.br/br/indicador/algodao.aspx\" target=\"_self\">algodão</a></li>\n",
       "<li><a href=\"https://www.cepea.esalq.usp.br/br/indicador/arroz.aspx\" target=\"_self\">arroz</a></li>\n",
       "<li><a href=\"https://www.cepea.esalq.usp.br/br/indicador/bezerro.aspx\" target=\"_self\">bezerro</a></li>\n",
       "<li><a href=\"https://www.cepea.esalq.usp.br/br/indicador/cafe.aspx\" target=\"_self\">café</a></li>\n",
       "<li><a href=\"https://www.cepea.esalq.usp.br/br/indicador/boi-gordo.aspx\" target=\"_self\">boi</a></li>\n",
       "<li><a href=\"https://www.cepea.esalq.usp.br/br/indicador/citros.aspx\" target=\"_self\">citros</a></li>\n",
       "<li><a href=\"https://www.cepea.esalq.usp.br/br/indicador/etanol.aspx\" target=\"_self\">etanol</a></li>\n",
       "<li><a href=\"https://www.cepea.esalq.usp.br/br/categoria/florestal.aspx\" target=\"_self\">florestal</a></li>\n",
       "<li><a href=\"https://www.cepea.esalq.usp.br/br/indicador/frango.aspx\" target=\"_self\">frango</a></li>\n",
       "<li><a href=\"https://www.cepea.esalq.usp.br/br/hortifruti.aspx\" target=\"_self\">hortifrúti</a></li>\n",
       "<li><a href=\"https://www.cepea.esalq.usp.br/br/indicador/leite.aspx\" target=\"_self\">leite</a></li>\n",
       "<li><a href=\"https://www.cepea.esalq.usp.br/br/indicador/mandioca.aspx\" target=\"_self\">mandioca</a></li>\n",
       "<li><a href=\"https://www.cepea.esalq.usp.br/br/indicador/milho.aspx\" target=\"_self\">milho</a></li>\n",
       "<li><a href=\"https://www.cepea.esalq.usp.br/br/indicador/ovinos.aspx\" target=\"_self\">ovinos</a></li>\n",
       "<li><a href=\"https://www.cepea.esalq.usp.br/br/indicador/ovos.aspx\" target=\"_self\">ovos</a></li>\n",
       "<li><a href=\"https://www.cepea.esalq.usp.br/br/indicador/soja.aspx\" target=\"_self\">soja</a></li>\n",
       "<li><a href=\"https://www.cepea.esalq.usp.br/br/indicador/suino.aspx\" target=\"_self\">suíno</a></li>\n",
       "<li><a href=\"https://www.cepea.esalq.usp.br/br/tilapia.aspx\" target=\"_self\">tilápia</a></li>\n",
       "<li><a href=\"https://www.cepea.esalq.usp.br/br/indicador/trigo.aspx\" target=\"_self\">trigo</a></li>\n",
       "</ul>\n",
       "<div class=\"imagenet-clear\"></div>\n",
       "</div>\n",
       "</div>\n",
       "</div>\n",
       "<div id=\"imagenet-wrap-content\">\n",
       "<div class=\"imagenet-clear\"></div>\n",
       "<div class=\"imagenet-content home imagenet-col-max imagenet-ma\" id=\"imagenet-content\">\n",
       "<!--<a href=\"https://www.cepea.esalq.usp.br/br/contato/foto.aspx\" id=\"imagenet-envia-sua-foto\">envie sua foto para o Cepea</a>--> <div class=\"imagenet-clear\"></div>\n",
       "<div class=\"imagenet-content imagenet-left\">\n",
       "<div class=\"imagenet-box imagenet-col-12 imagenet-fl\">\n",
       "<div class=\"imagenet-box imagenet-col-66 imagenet-sm-12\">\n",
       "<h2 class=\"imagenet-h2\">Frango</h2>\n",
       "</div>\n",
       "<div class=\"imagenet-conteudo\">\n",
       "<br/>\n",
       "</div>\n",
       "</div>\n",
       "<div class=\"imagenet-fl imagenet-col-12\">\n",
       "<div class=\"imagenet-fl imagenet-col-12\">\n",
       "<div class=\"imagenet-col-8 imagenet-sm-12 imagenet-table-titulo\">PREÇOS DO FRANGO CONGELADO CEPEA/ESALQ - ESTADO SP</div>\n",
       "<div class=\"imagenet-col-8 imagenet-sm-12 imagenet-pa-r imagenet-bb imagenet-fl\">\n",
       "<div class=\"imagenet-table-responsiva\">\n",
       "<table class=\"imagenet-table imagenet-th2 imagenet-col-12\" id=\"imagenet-indicador1\">\n",
       "<thead>\n",
       "<tr>\n",
       "<th class=\"strong\"> </th>\n",
       "<th>Valor R$</th>\n",
       "<th>Var./Dia</th>\n",
       "<th>Var./Mês</th>\n",
       "</tr>\n",
       "</thead>\n",
       "<tbody>\n",
       "<tr>\n",
       "<td>26/07/2021</td>\n",
       "<td>7,68</td>\n",
       "<td>0,00%</td>\n",
       "<td>6,37%</td>\n",
       "</tr>\n",
       "<tr>\n",
       "<td>23/07/2021</td>\n",
       "<td>7,68</td>\n",
       "<td>0,00%</td>\n",
       "<td>6,37%</td>\n",
       "</tr>\n",
       "<tr>\n",
       "<td>22/07/2021</td>\n",
       "<td>7,68</td>\n",
       "<td>-0,39%</td>\n",
       "<td>6,37%</td>\n",
       "</tr>\n",
       "<tr>\n",
       "<td>21/07/2021</td>\n",
       "<td>7,71</td>\n",
       "<td>2,12%</td>\n",
       "<td>6,79%</td>\n",
       "</tr>\n",
       "<tr>\n",
       "<td>20/07/2021</td>\n",
       "<td>7,55</td>\n",
       "<td>0,27%</td>\n",
       "<td>4,57%</td>\n",
       "</tr>\n",
       "<tr class=\"imagenet-tbl-esconder\">\n",
       "<td>19/07/2021</td>\n",
       "<td>7,53</td>\n",
       "<td>0,00%</td>\n",
       "<td>4,29%</td>\n",
       "</tr>\n",
       "<tr class=\"imagenet-tbl-esconder\">\n",
       "<td>16/07/2021</td>\n",
       "<td>7,53</td>\n",
       "<td>0,00%</td>\n",
       "<td>4,29%</td>\n",
       "</tr>\n",
       "<tr class=\"imagenet-tbl-esconder\">\n",
       "<td>15/07/2021</td>\n",
       "<td>7,53</td>\n",
       "<td>0,27%</td>\n",
       "<td>4,29%</td>\n",
       "</tr>\n",
       "<tr class=\"imagenet-tbl-esconder\">\n",
       "<td>14/07/2021</td>\n",
       "<td>7,51</td>\n",
       "<td>1,21%</td>\n",
       "<td>4,02%</td>\n",
       "</tr>\n",
       "<tr class=\"imagenet-tbl-esconder\">\n",
       "<td>13/07/2021</td>\n",
       "<td>7,42</td>\n",
       "<td>0,68%</td>\n",
       "<td>2,77%</td>\n",
       "</tr>\n",
       "<tr class=\"imagenet-tbl-esconder\">\n",
       "<td>12/07/2021</td>\n",
       "<td>7,37</td>\n",
       "<td>0,00%</td>\n",
       "<td>2,08%</td>\n",
       "</tr>\n",
       "<tr class=\"imagenet-tbl-esconder\">\n",
       "<td>09/07/2021</td>\n",
       "<td>7,37</td>\n",
       "<td>-0,14%</td>\n",
       "<td>2,08%</td>\n",
       "</tr>\n",
       "<tr class=\"imagenet-tbl-esconder\">\n",
       "<td>08/07/2021</td>\n",
       "<td>7,38</td>\n",
       "<td>0,00%</td>\n",
       "<td>2,22%</td>\n",
       "</tr>\n",
       "<tr class=\"imagenet-tbl-esconder\">\n",
       "<td>07/07/2021</td>\n",
       "<td>7,38</td>\n",
       "<td>1,23%</td>\n",
       "<td>2,22%</td>\n",
       "</tr>\n",
       "<tr class=\"imagenet-tbl-esconder\">\n",
       "<td>06/07/2021</td>\n",
       "<td>7,29</td>\n",
       "<td>0,83%</td>\n",
       "<td>0,97%</td>\n",
       "</tr>\n",
       "</tbody>\n",
       "</table>\n",
       "</div>\n",
       "<div class=\"imagenet-fonte-tabela imagenet-fl\">Fonte: CEPEA</div>\n",
       "</div>\n",
       "<div class=\"imagenet-links-after-table imagenet-col-2 imagenet-pa-l imagenet-bb imagenet-fl\">\n",
       "<a href=\"https://www.cepea.esalq.usp.br/br/metodologia/metodologia-precos-do-frango-congelado-cepea-esalq-estado-sp.aspx\">Metodologia</a> <a class=\"imagenet-open-popup\" href=\"#imagenet-popup-grafico1\" id=\"popup-0\">Gráfico</a>\n",
       "<a href=\"javascript:void(0);\" onclick=\"$(this).mostrarValores('imagenet-indicador1',$(this));\">Mais valores</a> <a href=\"https://www.cepea.esalq.usp.br/br/indicador/series/frango.aspx?id=181\">Série de preços</a>\n",
       "</div>\n",
       "</div>\n",
       "<div class=\"imagenet-fl imagenet-box\">\n",
       "<span class=\"imagenet-fonte-tabela\"><p><strong>* Nota:</strong> preço da carne negociada no atacado, média (Reais por quilo) das regiões: Grande São Paulo, São José do Rio Preto e Descalvado.</p>\n",
       "</span> </div>\n",
       "</div>\n",
       "<div class=\"imagenet-clear\"></div>\n",
       "<div class=\"imagenet-col-12\">\n",
       "<div class=\"imagenet-col-8 imagenet-sm-12 imagenet-table-titulo\">PREÇOS DO FRANGO RESFRIADO CEPEA/ESALQ - ESTADO SP</div>\n",
       "<div class=\"imagenet-col-8 imagenet-sm-12 imagenet-pa-r imagenet-bb imagenet-fl\">\n",
       "<div class=\"imagenet-table-responsiva\">\n",
       "<table class=\"imagenet-table imagenet-th2 imagenet-col-12\" id=\"imagenet-indicador2\">\n",
       "<thead>\n",
       "<tr>\n",
       "<th class=\"strong\"> </th>\n",
       "<th>Valor R$</th>\n",
       "<th>Var./Dia</th>\n",
       "<th>Var./Mês</th>\n",
       "</tr>\n",
       "</thead>\n",
       "<tbody>\n",
       "<tr>\n",
       "<td>26/07/2021</td>\n",
       "<td>7,68</td>\n",
       "<td>0,00%</td>\n",
       "<td>4,35%</td>\n",
       "</tr>\n",
       "<tr>\n",
       "<td>23/07/2021</td>\n",
       "<td>7,68</td>\n",
       "<td>-1,29%</td>\n",
       "<td>4,35%</td>\n",
       "</tr>\n",
       "<tr>\n",
       "<td>22/07/2021</td>\n",
       "<td>7,78</td>\n",
       "<td>-0,13%</td>\n",
       "<td>5,71%</td>\n",
       "</tr>\n",
       "<tr>\n",
       "<td>21/07/2021</td>\n",
       "<td>7,79</td>\n",
       "<td>1,43%</td>\n",
       "<td>5,84%</td>\n",
       "</tr>\n",
       "<tr>\n",
       "<td>20/07/2021</td>\n",
       "<td>7,68</td>\n",
       "<td>0,13%</td>\n",
       "<td>4,35%</td>\n",
       "</tr>\n",
       "<tr class=\"imagenet-tbl-esconder\">\n",
       "<td>19/07/2021</td>\n",
       "<td>7,67</td>\n",
       "<td>0,00%</td>\n",
       "<td>4,21%</td>\n",
       "</tr>\n",
       "<tr class=\"imagenet-tbl-esconder\">\n",
       "<td>16/07/2021</td>\n",
       "<td>7,67</td>\n",
       "<td>0,00%</td>\n",
       "<td>4,21%</td>\n",
       "</tr>\n",
       "<tr class=\"imagenet-tbl-esconder\">\n",
       "<td>15/07/2021</td>\n",
       "<td>7,67</td>\n",
       "<td>-0,13%</td>\n",
       "<td>4,21%</td>\n",
       "</tr>\n",
       "<tr class=\"imagenet-tbl-esconder\">\n",
       "<td>14/07/2021</td>\n",
       "<td>7,68</td>\n",
       "<td>2,54%</td>\n",
       "<td>4,35%</td>\n",
       "</tr>\n",
       "<tr class=\"imagenet-tbl-esconder\">\n",
       "<td>13/07/2021</td>\n",
       "<td>7,49</td>\n",
       "<td>0,40%</td>\n",
       "<td>1,77%</td>\n",
       "</tr>\n",
       "<tr class=\"imagenet-tbl-esconder\">\n",
       "<td>12/07/2021</td>\n",
       "<td>7,46</td>\n",
       "<td>0,00%</td>\n",
       "<td>1,36%</td>\n",
       "</tr>\n",
       "<tr class=\"imagenet-tbl-esconder\">\n",
       "<td>09/07/2021</td>\n",
       "<td>7,46</td>\n",
       "<td>0,00%</td>\n",
       "<td>1,36%</td>\n",
       "</tr>\n",
       "<tr class=\"imagenet-tbl-esconder\">\n",
       "<td>08/07/2021</td>\n",
       "<td>7,46</td>\n",
       "<td>0,00%</td>\n",
       "<td>1,36%</td>\n",
       "</tr>\n",
       "<tr class=\"imagenet-tbl-esconder\">\n",
       "<td>07/07/2021</td>\n",
       "<td>7,46</td>\n",
       "<td>0,81%</td>\n",
       "<td>1,36%</td>\n",
       "</tr>\n",
       "<tr class=\"imagenet-tbl-esconder\">\n",
       "<td>06/07/2021</td>\n",
       "<td>7,40</td>\n",
       "<td>0,41%</td>\n",
       "<td>0,54%</td>\n",
       "</tr>\n",
       "</tbody>\n",
       "</table>\n",
       "</div>\n",
       "<div class=\"imagenet-fonte-tabela imagenet-fl\">Fonte: CEPEA</div>\n",
       "</div>\n",
       "<div class=\"imagenet-links-after-table imagenet-col-2 imagenet-pa-l imagenet-bb imagenet-fl\">\n",
       "<a href=\"https://www.cepea.esalq.usp.br/br/metodologia/metodologia-precos-do-frango-resfriado-cepea-esalq-estado-sp.aspx\">Metodologia</a> <a class=\"imagenet-open-popup\" href=\"#imagenet-popup-grafico1\" id=\"popup-1\">Gráfico</a>\n",
       "<a href=\"javascript:void(0);\" onclick=\"$(this).mostrarValores('imagenet-indicador2',$(this));\">Mais valores</a> <a href=\"https://www.cepea.esalq.usp.br/br/indicador/series/frango.aspx?id=130\">Série de preços</a>\n",
       "</div>\n",
       "<div class=\"imagenet-fl imagenet-box\">\n",
       "<span class=\"imagenet-fonte-tabela\"><p><strong>* Nota:</strong> preço da carne negociada no atacado, média (Reais por quilo) das regiões: Grande São Paulo, São José do Rio Preto e Descalvado.</p>\n",
       "</span> </div>\n",
       "</div>\n",
       "<div class=\"imagenet-col-12 imagenet-fl\">\n",
       "<a class=\"imagenet-btn-back imagenet-fl imagenet-ma-b imagenet-ma-t\" href=\"javascript:history.back();\"><i class=\"fa fa-angle-left\"></i> voltar</a>\n",
       "</div>\n",
       "</div>\n",
       "<div class=\"imagenet-content imagenet-right\">\n",
       "<div class=\"imagenet-box imagenet-col-12 imagenet-fl\">\n",
       "<h2 class=\"imagenet-h2 imagenet-col-12 imagenet-toggle-absolute\">Contato</h2>\n",
       "<div class=\"imagenet-conteudo\">\n",
       "<div><a href=\"mailto:avecepea@usp.br\">avecepea@usp.br</a></div>\n",
       "</div>\n",
       "</div>\n",
       "<div class=\"bloco-item imagenet-col-12\">\n",
       "<div>\n",
       "<a href=\"https://www.cepea.esalq.usp.br/br/categoria/relatorios-pecuarios.aspx\" target=\"_self\">Relatórios de Custos Pecuários</a>\n",
       "<a href=\"https://www.cepea.esalq.usp.br/br/categoria/agromensal.aspx\" target=\"_self\">Agromensal</a>\n",
       "<a href=\"/en/category/brazilian-agribusiness-news.aspx\" target=\"_self\">Análise quinzenal (inglês)</a>\n",
       "<a href=\"https://www.cepea.esalq.usp.br/br/insumos-pecuarios.aspx\" target=\"_self\">Insumos Pecuários</a>\n",
       "</div>\n",
       "</div>\n",
       "<div class=\"imagenet-box imagenet-box8 imagenet-no-r imagenet-no-l imagenet-col-12 imagenet-fl\">\n",
       "<div class=\"imagenet-col-12 imagenet-right-menu\">\n",
       "<h2 class=\"imagenet-h2\">Equipe</h2>\n",
       "<div class=\"imagenet-toggle\">\n",
       "<a class=\"imagenet-open-toggle imagenet-open-box\" data-box=\"equipe-precos-comercializacao\"></a>\n",
       "</div>\n",
       "</div>\n",
       "<div class=\"imagenet-conteudo imagenet-no-r\">\n",
       "<div class=\"imagenet-box-popup\" id=\"equipe-precos-comercializacao\">\n",
       "<h4>Equipe</h4>\n",
       "<div class=\"imagenet-comentario-box\"><a href=\"mailto:avecepea@usp.br\">avecepea@usp.br</a></div>\n",
       "<div class=\"imagenet-body-box\">\n",
       "<p><strong>Coordenador</strong></p>\n",
       "<p>Geraldo Sant'Ana de Camargo Barros, Ph.D <br>\n",
       "Professor do Depto. de Economia, Administração e Sociologia Esalq/USP</br></p>\n",
       "<p><br/>\n",
       "<strong>Pesquisador responsável</strong><br/>\n",
       "Sergio De Zen, Dr. (licenciado)<br/>\n",
       "Professor Depto. de Economia, Administração e Sociologia<br/>\n",
       "sergdzen@usp.br</p>\n",
       "<p> </p>\n",
       "<p><strong>Pesquisador </strong></p>\n",
       "<p>Thiago Bernardino de Carvalho, Dr.</p>\n",
       "<p> </p>\n",
       "<p><strong>Gestora executiva</strong></p>\n",
       "<p>Regina Mazzini Rodrigues, M.a</p>\n",
       "<p><br/>\n",
       "<strong>Analista</strong></p>\n",
       "<p>Juliana Ferraz </p>\n",
       "<p><br/>\n",
       "<strong>Equipe de apoio</strong></p>\n",
       "<p>Matheus do Vale Liasch</p>\n",
       "<p>Luiz Gustavo Susumu Tutui</p>\n",
       "<p>Luiz Henrique Alves de Melo<br/>\n",
       "Marcia Verweij<br/>\n",
       "Ernesto Vaughn Ramello</p>\n",
       "</div>\n",
       "</div>\n",
       "</div>\n",
       "</div>\n",
       "<div class=\"imagenet-box8 imagenet-no-r imagenet-col-12 imagenet-pa-l imagenet-ma-t imagenet-ma-b imagenet-fl\">\n",
       "<h2 class=\"imagenet-h2\">Séries de Preços</h2>\n",
       "<div class=\"imagenet-conteudo imagenet-no-r\">\n",
       "<a href=\"https://www.cepea.esalq.usp.br/br/consultas-ao-banco-de-dados-do-site.aspx\" id=\"imagenet-link-serie-preco\">Consulta ao<br/> Banco de Dados</a>\n",
       "</div>\n",
       "</div>\n",
       "<div class=\"imagenet-col-12 imagenet-pa-l\">\n",
       "<a class=\"imagenet-ma-t imagenet-ma-b\" href=\"https://www.cepea.esalq.usp.br/br/widget.aspx\" id=\"imagenet-box-with-seta\"><span>Cotações do Cepea no seu site</span><span></span></a>\n",
       "<a class=\"imagenet-box-amarela imagenet-ma-t imagenet-ma-b\" href=\"https://www.cepea.esalq.usp.br/br/participe-da-comunidade-cepea.aspx\"><span>Participe da Comunidade Cepea</span></a>\n",
       "<a class=\"imagenet-fl imagenet-ma-t imagenet-ma-b\" href=\"https://www.cepea.esalq.usp.br/br/categoria/coronavirus.aspx\"><img alt=\"Coronavírus e o Agronegócio\" src=\"https://www.cepea.esalq.usp.br/view/imagens/btn-coronavirus.png\" title=\"Coronavírus e o Agronegócio\"/></a>\n",
       "</div>\n",
       "</div>\n",
       "</div>\n",
       "<div class=\"zoom-anim-dialog mfp-hide imagenet-popup imagenet-popup-big\" id=\"imagenet-popup-grafico1\">\n",
       "<div class=\"imagenet-titulo-main-popup\"></div>\n",
       "<div class=\"imagenet-comentario-popup\"></div>\n",
       "<div class=\"imagenet-body-popup\">\n",
       "<div class=\"imagenet-wrap-btn-change-chart-produto\">\n",
       "<input checked=\"\" class=\"dias_change_chart_produto\" hidden=\"\" id=\"ch30-1\" name=\"dias_change_chart_produto\" type=\"radio\" value=\"30-0\"/><label class=\"imagenet-btn-change-chart-produto\" for=\"ch30-1\">30 dias</label><input class=\"dias_change_chart_produto\" hidden=\"\" id=\"ch60-1\" name=\"dias_change_chart_produto\" type=\"radio\" value=\"60-0\"/><label class=\"imagenet-btn-change-chart-produto\" for=\"ch60-1\">60 dias</label><input class=\"dias_change_chart_produto\" hidden=\"\" id=\"ch6-2\" name=\"dias_change_chart_produto\" type=\"radio\" value=\"6-1\"/><label class=\"imagenet-btn-change-chart-produto\" for=\"ch6-2\">6 meses</label><input class=\"dias_change_chart_produto\" hidden=\"\" id=\"ch12-2\" name=\"dias_change_chart_produto\" type=\"radio\" value=\"12-1\"/><label class=\"imagenet-btn-change-chart-produto\" for=\"ch12-2\">12 meses</label><input class=\"dias_change_chart_produto\" hidden=\"\" id=\"ch24-2\" name=\"dias_change_chart_produto\" type=\"radio\" value=\"24-1\"/><label class=\"imagenet-btn-change-chart-produto\" for=\"ch24-2\">2 anos</label><div class=\"clear\"></div>\n",
       "</div>\n",
       "<div class=\"clear\"></div>\n",
       "<div class=\"imagenet-wrap-body-chart\">\n",
       "<div class=\"imagenet-wrap-chart\">\n",
       "<canvas id=\"imagenet-chart-produto\"></canvas>\n",
       "</div>\n",
       "</div>\n",
       "<div>\n",
       "\t\t\tFonte: Cepea\n",
       "\t\t</div>\n",
       "</div>\n",
       "</div>\n",
       "<div class=\"zoom-anim-dialog mfp-hide imagenet-popup imagenet-popup-big\" id=\"imagenet-popup-grafico2\">\n",
       "<div class=\"imagenet-titulo-main-popup\"></div>\n",
       "<div class=\"imagenet-comentario-popup\"></div>\n",
       "<div class=\"imagenet-body-popup\">\n",
       "<div class=\"imagenet-wrap-btn-change-chart-produto\" style=\"width:285px;\">\n",
       "<input checked=\"\" class=\"dias_change_chart_produto\" hidden=\"\" id=\"2-ch6-2\" name=\"dias_change_chart_produto\" type=\"radio\" value=\"6-1\"/>\n",
       "<label class=\"imagenet-btn-change-chart-produto\" for=\"2-ch6-2\">6 meses</label>\n",
       "<input class=\"dias_change_chart_produto\" hidden=\"\" id=\"2-ch12-2\" name=\"dias_change_chart_produto\" type=\"radio\" value=\"12-1\"/>\n",
       "<label class=\"imagenet-btn-change-chart-produto\" for=\"2-ch12-2\">12 meses</label>\n",
       "<input class=\"dias_change_chart_produto\" hidden=\"\" id=\"2-ch24-2\" name=\"dias_change_chart_produto\" type=\"radio\" value=\"24-1\"/>\n",
       "<label class=\"imagenet-btn-change-chart-produto\" for=\"2-ch24-2\">2 anos</label>\n",
       "<div class=\"clear\"></div>\n",
       "</div>\n",
       "<div class=\"clear\"></div>\n",
       "<div class=\"imagenet-wrap-body-chart\">\n",
       "<div class=\"imagenet-wrap-chart\">\n",
       "<canvas id=\"imagenet-chart-produto2\"></canvas>\n",
       "</div>\n",
       "</div>\n",
       "<div>\n",
       "\t\t\tFonte: Cepea\n",
       "\t\t</div>\n",
       "</div>\n",
       "</div> <div class=\"imagenet-clear\"></div>\n",
       "</div>\n",
       "<div class=\"imagenet-clear\"></div>\n",
       "<div id=\"imagenet-footer\">\n",
       "<div class=\"imagenet-col-max imagenet-ma\">\n",
       "<div id=\"imagenet-cepea-footer\">\n",
       "<div class=\"imagenet-box-footer1 imagenet-fl\">\n",
       "<div><a href=\"https://www.cepea.esalq.usp.br/br/sobre-o-cepea.aspx\" target=\"_blank\">CEPEA - Centro de Estudos Avançados em Economia Aplicada</a></div>\n",
       "<div><a href=\"http://www.economia.esalq.usp.br/\" target=\"_blank\">Departamento de Economia, Administração e Sociologia</a></div>\n",
       "<div><a href=\"http://www.esalq.usp.br/\" target=\"_blank\">ESALQ - Escola Superior de Agricultura Luiz de Queiroz</a></div>\n",
       "<div><a href=\"http://www.usp.br/\" target=\"_blank\">USP - Universidade de São Paulo</a></div>\n",
       "<div>Piracicaba, SP <img alt=\"Brasil\" src=\"https://www.cepea.esalq.usp.br/view/imagens/bandeira.png\" title=\"Brasil\"/></div>\n",
       "</div>\n",
       "<div class=\"imagenet-box-footer2 imagenet-fl\">\n",
       "<div>+ 55 (19) 3429 8800</div>\n",
       "<div>cepea@usp.br</div>\n",
       "<a href=\"/br/contato.aspx\" target=\"_self\">Como Chegar ao Cepea</a>\n",
       "<a href=\"https://www.cepea.esalq.usp.br/br/estagio-no-cepea.aspx\" target=\"_self\">Estágio no Cepea</a>\n",
       "</div>\n",
       "<div class=\"imagenet-box-footer3 imagenet-fl\">\n",
       "<a href=\"https://www.cepea.esalq.usp.br/br/politica-de-direitos-autorais-1.aspx\" target=\"_self\">Política de Direitos Autorais</a>\n",
       "<a href=\"https://www.cepea.esalq.usp.br/br/rss-cepea.aspx\" target=\"_self\">RSS - Cepea</a>\n",
       "<div id=\"imagenet-aplicativos\">\n",
       "<div>Aplicativo <strong>Cepea</strong>:</div>\n",
       "<a href=\"https://www.microsoft.com/pt-br/store/p/cepea/9nblggh590km\" target=\"_blank\"><img alt=\"Store\" src=\"https://www.cepea.esalq.usp.br/view/imagens/microsoft-badge1.png\" title=\"Store\"/></a>\n",
       "<a href=\"https://itunes.apple.com/br/app/cepea/id1167042166?mt=8\" target=\"_blank\"><img alt=\"Apple Store\" src=\"https://www.cepea.esalq.usp.br/view/imagens/apple-badge1.png\" title=\"Apple Store\"/></a>\n",
       "<a href=\"https://play.google.com/store/apps/details?id=com.imagenet.cepea&amp;hl=pt_BR\" target=\"_blank\"><img alt=\"Play Store\" src=\"https://www.cepea.esalq.usp.br/view/imagens/google-badge1.png\" title=\"Play Store\"/></a>\n",
       "</div>\n",
       "</div>\n",
       "<div class=\"imagenet-2 imagenet-fr\" id=\"imagenet-rede-social-footer\">\n",
       "<a href=\"https://www.facebook.com/cepea.esalq\" target=\"_blank\"><img alt=\"Facebook - CEPEA\" src=\"https://www.cepea.esalq.usp.br/view/imagens/facebook.png\" title=\"Facebook - CEPEA\"/></a>\n",
       "<a href=\"http://twitter.com/CepeaEsalq\" target=\"_blank\"><img alt=\"Twitter - CEPEA\" src=\"https://www.cepea.esalq.usp.br/view/imagens/twitter.png\" title=\"Twitter - CEPEA\"/></a>\n",
       "<a href=\"https://youtu.be/XxXuSNZnKsk\" target=\"_blank\"><img alt=\"Youtube - CEPEA\" src=\"https://www.cepea.esalq.usp.br/view/imagens/youtube.png\" title=\"Youtube - CEPEA\"/></a>\n",
       "<a href=\"https://www.linkedin.com/company/10173312?trk=tyah&amp;trkInfo=clickedVertical%3Acompany%2CclickedEntityId%3A10173312%2Cidx%3A2-1-2%2CtarId%3A1469045025691%2Ctas%3Acepea\" target=\"_blank\"><img alt=\"LinkedIn - CEPEA\" src=\"https://www.cepea.esalq.usp.br/view/imagens/linkedin.png\" title=\"LinkedIn - CEPEA\"/></a>\n",
       "<a href=\"https://www.instagram.com/cepea_esalq_usp\" target=\"_blank\"><img alt=\"Instagram - CEPEA\" src=\"https://www.cepea.esalq.usp.br/view/imagens/instagram.png\" title=\"Instagram - CEPEA\"/></a>\n",
       "</div>\n",
       "</div>\n",
       "<div class=\"imagenet-col-6 imagenet-fr\" id=\"imagenet-powered\">\n",
       "<div class=\"imagenet-col-5 imagenet-fl\">\n",
       "                        O Cepea não se responsabiliza por decisões tomadas a partir do conteúdo que divulga.                    </div>\n",
       "<div class=\"imagenet-col-5 imagenet-fr imagenet-tar\">Desenvolvimento <a href=\"https://www.imagenet.com.br/?utm_source=CEPEA&amp;utm_medium=desenvolvimento&amp;utm_term=imagenet&amp;utm_content=Referencia_Site&amp;utm_campaign=Desenvolvimento_Imagenet\" style=\"display: inline;text-transform: capitalize;\" target=\"_blank\" title=\"Desenvolvimento de sites Imagenet (19) 3422-1523\">Imagenet Tecnologia</a></div>\n",
       "</div>\n",
       "</div>\n",
       "</div>\n",
       "</div>\n",
       "<script src=\"https://www.cepea.esalq.usp.br/view/js/jquery-1.11.1.min.js\" type=\"text/javascript\"></script>\n",
       "<script src=\"https://www.cepea.esalq.usp.br/view/js/marquee.js\" type=\"text/javascript\"></script>\n",
       "<script src=\"https://www.cepea.esalq.usp.br/view/js/imagenet-tippy.min.js\" type=\"text/javascript\"></script>\n",
       "<script src=\"https://www.cepea.esalq.usp.br/view/js/imagenet-scripts.js\" type=\"text/javascript\"></script>\n",
       "<script src=\"https://www.cepea.esalq.usp.br/view/js/Chart.js\" type=\"text/javascript\"></script>\n",
       "<script src=\"https://www.cepea.esalq.usp.br/view/js/Chart.Line.js\" type=\"text/javascript\"></script>\n",
       "<script src=\"https://www.cepea.esalq.usp.br/view/js/jquery.magnific-popup.min.js\" type=\"text/javascript\"></script>\n",
       "<script type=\"text/javascript\">\n",
       "\n",
       "window.has_watermark = false;\n",
       "\n",
       "var max_dias = 30;\n",
       "var titulo = \"\";\n",
       "var subtitulo = \"\";\n",
       "var canvas_data  = [];\n",
       "var canvas_chart = [];\n",
       "var valor_array  = [];\n",
       "canvas_data[0] = [1, 2, 3, 4, 5, 6, 7, 8, 9, 10, 11, 12, 13, 14, 15, 16, 17, 18, 19, 20, 21, 22, 23, 24, 25, 26, 27, 28, 29, 30, 31, 32, 33, 34, 35, 36, 37, 38, 39, 40, 41, 42, 43, 44, 45, 46, 47, 48, 49, 50, 51, 52, 53, 54, 55, 56, 57, 58, 59, 60];\n",
       "\n",
       "$.fn.mostrarValores = function(tabela,item) {\n",
       "\t\n",
       "\ttabela = $(\"#\"+tabela);\n",
       "\t\n",
       "\tif(tabela.find(\".imagenet-tbl-esconder\").hasClass(\"aberto\")) {\n",
       "\t\ttabela.find(\".imagenet-tbl-esconder\").removeClass(\"aberto\").stop(true, true).fadeOut();\n",
       "\t\titem.text(\"Mais valores\").stop(true, true).fadeIn();\n",
       "\t} else {\n",
       "\t\ttabela.find(\".imagenet-tbl-esconder\").addClass(\"aberto\").stop(true, true).fadeIn();\n",
       "\t\titem.text(\"Últimos valores\").stop(true, true).fadeIn();\n",
       "\t}\n",
       "\t\n",
       "};\n",
       "\n",
       "$.fn.get_label = function(max, cod) {\n",
       "\treturn canvas_data[cod].slice(0, max);\n",
       "}\n",
       "\n",
       "$.fn.get_data = function(tempo) {\n",
       "\tvar max_dias = typeof tempo != \"undefined\" ? tempo : 30;\n",
       "\tvar dias_array = [];\n",
       "\n",
       "\tlet total_valores = (max_dias == 30 || max_dias == 60) ? valor_array[0].length : valor_array[1].length;\n",
       "\n",
       "\tif (total_valores < max_dias)\n",
       "\t\tmax_dias = total_valores;\n",
       "\t\n",
       "\tfor(var cont = 0; cont < max_dias; cont++ ){\n",
       "\t\tdias_array.push((max_dias == 30 || max_dias == 60 ? valor_array[0][cont] : valor_array[1][cont]));\n",
       "\t}\n",
       "\treturn dias_array;\n",
       "}\n",
       "\n",
       "$.fn.create = function(id, dias, cod) {\n",
       "\ttypeof dias == \"undefined\" ? 30 : dias;\n",
       "\ttypeof cod == \"undefined\" ? 0 : cod;\n",
       "\t\n",
       "\t$(\".imagenet-titulo-main-popup\").text(titulo);\n",
       "\t$(\".imagenet-comentario-popup\").text(subtitulo);\n",
       "\n",
       "\tvar data = {\n",
       "\t\tlabels: this.get_label(dias, cod).reverse(),\n",
       "\t\tdatasets: [\n",
       "\t\t\t{\n",
       "\t\t\t\tlabel: \"Valor\",\n",
       "\t\t\t\tfillColor : \"rgba(152,152,90,0.08)\",\n",
       "\t\t\t\tstrokeColor : \"rgba(152,152,90,1)\",\n",
       "\t\t\t\tpointColor : \"rgba(152,152,90,1)\",\n",
       "\t\t\t\tpointStrokeColor: \"#fff\",\n",
       "\t\t\t\tpointHighlightFill: \"#fff\",\n",
       "\t\t\t\tpointHighlightStroke: \"rgba(220,220,220,1)\",\n",
       "\t\t\t\tdata: this.get_data(dias).reverse()\n",
       "\t\t\t}\n",
       "\t\t]\n",
       "\t};\n",
       "\t\n",
       "\tif(typeof canvas_chart[id] != \"undefined\"){\n",
       "\t\tcanvas_chart[id].destroy();\n",
       "\t}\n",
       "\n",
       "\tChart.types.Line.extend({\n",
       "\t\tname: \"LineWithLabel\",\n",
       "\t\tdraw: function () {\n",
       "\t\t\tChart.types.Line.prototype.draw.apply(this, arguments);\n",
       "\t\t\tvar ctx = this.chart.ctx;\n",
       "\t\t\tctx.save();\n",
       "\t\t\t// text alignment and color\n",
       "\t\t\tctx.textAlign = \"center\";\n",
       "\t\t\tctx.textBaseline = \"bottom\";\n",
       "\t\t\tctx.fillStyle = this.options.scaleFontColor;\n",
       "\t\t\t// position\n",
       "\t\t\tvar x = this.scale.xScalePaddingLeft * 0.4;\n",
       "\t\t\tvar y = this.chart.height / 2;\n",
       "\t\t\t// change origin\n",
       "\t\t\tctx.translate(x, y)\n",
       "\t\t\t// rotate text\n",
       "\t\t\tctx.rotate(-90 * Math.PI / 180);\n",
       "\t\t\tctx.fillText(this.datasets[0].label, 0, 0);\n",
       "\t\t\tctx.restore();\n",
       "\t\t}\n",
       "\t});\n",
       "\t\n",
       "\tvar ctx = document.getElementById(id).getContext(\"2d\");\n",
       "\t$(\"#\"+id).width($(\".imagenet-popup .imagenet-body-popup\").innerWidth()).height($(\".imagenet-popup .imagenet-body-popup\").innerWidth() * 0.4);\n",
       "\tcanvas_chart[id] = new Chart(ctx).LineWithLabel(data,{\n",
       "\t\tscaleLabel: \"          <%=value%>\",\n",
       "\t\ttooltipTemplate: \"<%=value%>\",\n",
       "\t\ttooltipCaretSize: 4\n",
       "\t});\n",
       "}\n",
       "\n",
       "$(function(){\n",
       "\t\n",
       "\t$(\"#popup-0\").magnificPopup({\n",
       "\t\t\t\ttype: \"inline\",\n",
       "\t\t\t\n",
       "\t\t\t\tfixedContentPos: false,\n",
       "\t\t\t\tfixedBgPos: true,\n",
       "\t\t\t\n",
       "\t\t\t\toverflowY: \"auto\",\n",
       "\t\t\t\n",
       "\t\t\t\tcloseBtnInside: true,\n",
       "\t\t\t\tpreloader: true,\n",
       "\t\t\t\t\n",
       "\t\t\t\tcallbacks: {\n",
       "\t\t\t\t\topen: function() {\n",
       "\t\t\t\t\t\tvalor_array[0] = [7.68,7.68,7.68,7.71,7.55,7.53,7.53,7.53,7.51,7.42,7.37,7.37,7.38,7.38,7.29,7.23,7.22,7.22,7.22,7.32,7.32,7.32,7.34,7.34,7.26,7.29,7.29,7.31,7.31,7.27,7.27,7.26,7.17,7.17,7.01,6.95,6.95,6.93,6.91,6.90,6.85,6.87,6.85,6.86,6.86,6.96,6.97,6.99,7.11,7.11,7.11,7.11,7.12,7.12,7.09,7.09,7.07,7.05,6.67,6.58];\n",
       "\t\t\t\t\t\tvalor_array[1] = [7.46,7.20,6.97,6.21,6.41,6.06,5.94,6.02,6.34,6.11,5.63,5.04,4.89,4.50,4.10,4.22,4.83,4.83,5.22,5.38,4.94,4.48,4.42,4.55];\n",
       "                        canvas_data[1] = ['Julho/21','Junho/21','Maio/21','Abril/21','Março/21','Fevereiro/21','Janeiro/21','Dezembro/20','Novembro/20','Outubro/20','Setembro/20','Agosto/20','Julho/20','Junho/20','Maio/20','Abril/20','Março/20','Fevereiro/20','Janeiro/20','Dezembro/19','Novembro/19','Outubro/19','Setembro/19','Agosto/19'];\n",
       "\t\t\t\t\t\ttitulo = \"PREÇOS DO FRANGO CONGELADO CEPEA/ESALQ - ESTADO SP\";\n",
       "\t\t\t\t\t\tsubtitulo = \"\";\n",
       "\t\t\t\t\t\t$(\"#ch30-1\").prop(\"checked\",true);\n",
       "\t\t\t\t\t\t$(this).create(\"imagenet-chart-produto\", 30, 0);\n",
       "\t\t\t\t\t}\n",
       "\t\t\t\t},\n",
       "\t\t\t\t\n",
       "\t\t\t\tmidClick: true,\n",
       "\t\t\t\tremovalDelay: 300,\n",
       "\t\t\t\tmainClass: \"my-mfp-slide-bottom\"\n",
       "\t\t\t});$(\"#popup-1\").magnificPopup({\n",
       "\t\t\t\ttype: \"inline\",\n",
       "\t\t\t\n",
       "\t\t\t\tfixedContentPos: false,\n",
       "\t\t\t\tfixedBgPos: true,\n",
       "\t\t\t\n",
       "\t\t\t\toverflowY: \"auto\",\n",
       "\t\t\t\n",
       "\t\t\t\tcloseBtnInside: true,\n",
       "\t\t\t\tpreloader: true,\n",
       "\t\t\t\t\n",
       "\t\t\t\tcallbacks: {\n",
       "\t\t\t\t\topen: function() {\n",
       "\t\t\t\t\t\tvalor_array[0] = [7.68,7.68,7.78,7.79,7.68,7.67,7.67,7.67,7.68,7.49,7.46,7.46,7.46,7.46,7.40,7.37,7.36,7.36,7.36,7.42,7.42,7.42,7.40,7.40,7.34,7.36,7.36,7.38,7.38,7.32,7.32,7.32,7.25,7.25,7.11,7.07,7.07,7.05,7.05,7.04,7.01,6.95,6.94,7.05,7.05,7.12,7.12,7.14,7.22,7.22,7.22,7.22,7.22,7.19,7.17,7.17,7.15,7.14,6.77,6.71];\n",
       "\t\t\t\t\t\tvalor_array[1] = [7.56,7.29,7.09,6.38,6.45,6.23,6.07,6.03,6.35,6.07,5.68,5.00,4.88,4.50,3.96,4.11,4.77,4.81,5.03,5.38,4.93,4.61,4.56,4.65];\n",
       "                        canvas_data[1] = ['Julho/21','Junho/21','Maio/21','Abril/21','Março/21','Fevereiro/21','Janeiro/21','Dezembro/20','Novembro/20','Outubro/20','Setembro/20','Agosto/20','Julho/20','Junho/20','Maio/20','Abril/20','Março/20','Fevereiro/20','Janeiro/20','Dezembro/19','Novembro/19','Outubro/19','Setembro/19','Agosto/19'];\n",
       "\t\t\t\t\t\ttitulo = \"PREÇOS DO FRANGO RESFRIADO CEPEA/ESALQ - ESTADO SP\";\n",
       "\t\t\t\t\t\tsubtitulo = \"\";\n",
       "\t\t\t\t\t\t$(\"#ch30-1\").prop(\"checked\",true);\n",
       "\t\t\t\t\t\t$(this).create(\"imagenet-chart-produto\", 30, 0);\n",
       "\t\t\t\t\t}\n",
       "\t\t\t\t},\n",
       "\t\t\t\t\n",
       "\t\t\t\tmidClick: true,\n",
       "\t\t\t\tremovalDelay: 300,\n",
       "\t\t\t\tmainClass: \"my-mfp-slide-bottom\"\n",
       "\t\t\t});\n",
       "\t\n",
       "\t$(\".dias_change_chart_produto\").on(\"change\", function(){\n",
       "\t\tvar qnt_cod = $(this).val().split(\"-\");\n",
       "\t\tvar qnt = qnt_cod[0]; var cod = qnt_cod[1];\n",
       "\t\t$(this).create(\"imagenet-chart-produto\", qnt, cod);\n",
       "\t\twindow.has_watermark = false;\n",
       "\t});\n",
       "\t\t\t\t\t\t\t\n",
       "\t\n",
       "\t$(\".imagenet-open-box\").on(\"click\", function(){\n",
       "\t\tvar id = $(this).attr(\"data-box\");\n",
       "\t\tif($(\"#\"+id).is(\":visible\")){\n",
       "\t\t\t$(\"#\"+id).slideUp();\n",
       "\t\t}else{\n",
       "\t\t\t$(\"#\"+id).slideDown();\n",
       "\t\t}\n",
       "\t\t$(\".imagenet-box-popup:not(#\"+id+\")\").slideUp();\n",
       "\t});\n",
       "});\n",
       "</script> <script type=\"text/javascript\">\n",
       "\t\n",
       "\t\ttippy('.tippy');\n",
       "\t\t\n",
       "        function sharer(link) {\n",
       "              window.open(\n",
       "                  'http://www.facebook.com/sharer.php?m2w&s=100&p[url]='+link,\n",
       "                  'sharer',\n",
       "                  'toolbar=0,status=0,width=580,height=325');\n",
       "        }\n",
       "\n",
       "        $('.marquee').marquee({\n",
       "            duration: 17500,\n",
       "            gap: 100,\n",
       "            pauseOnHover: true,\n",
       "            delayBeforeStart: 0,\n",
       "            direction: 'left',\n",
       "            // duplicated: true\n",
       "        });\n",
       "        \n",
       "        var toggle = [];\n",
       "        \n",
       "        //abre ou fecha conteudos separadamente\n",
       "        function openToggle(obj, id, effect) {\n",
       "      \n",
       "             if (typeof toggle[id] === 'undefined') {\n",
       "                 if (effect == 'slide') {\n",
       "                     $(\"#\"+id).stop().slideDown();\n",
       "                 }else if(effect == 'fade'){\n",
       "                     $(\"#\"+id).stop().fadeIn();\n",
       "                 }\n",
       "                                 \n",
       "                 $(\"#\"+id).addClass('open');\n",
       "                 toggle[id] = [];\n",
       "                 toggle[id].push(1);                \n",
       "             }else{\n",
       "                 if (effect == 'slide') {\n",
       "                     $(\"#\"+id).stop().slideUp();\n",
       "                 }else if(effect == 'fade'){\n",
       "                     $(\"#\"+id).stop().fadeOut();\n",
       "                 }\n",
       "                 \n",
       "                 $(\"#\"+id).removeClass('open');\n",
       "                 toggle[id] = undefined;\n",
       "             }\n",
       "        }\n",
       "        $(document).ready(function () {\n",
       "            moveMarkup();\n",
       "            function moveMarkup() {\n",
       "                var left = parseInt($('.markup #text p').css('left')) - (parseInt($('.markup #text p').css('left'))/30);\n",
       "                $('.markup #text p').css('left', '-' + $('.markup #text p').css('width') + 'px');\n",
       "            }\n",
       "        });\n",
       "    </script>\n",
       "</body>\n",
       "</html>"
      ]
     },
     "execution_count": 5,
     "metadata": {},
     "output_type": "execute_result"
    }
   ],
   "source": [
    "soup"
   ]
  },
  {
   "cell_type": "code",
   "execution_count": 6,
   "metadata": {},
   "outputs": [
    {
     "name": "stdout",
     "output_type": "stream",
     "text": [
      "Classes of each table:\n",
      "imagenet-indicador1\n",
      "imagenet-indicador2\n"
     ]
    }
   ],
   "source": [
    "print('Classes of each table:')\n",
    "for table in soup.find_all('table'):\n",
    "    print(table.get('id'))\n",
    "# use class or id information to pick the correct table of the website"
   ]
  },
  {
   "cell_type": "code",
   "execution_count": 7,
   "metadata": {},
   "outputs": [],
   "source": [
    "price_chk = soup.find(\"table\", id='imagenet-indicador1')"
   ]
  },
  {
   "cell_type": "code",
   "execution_count": 8,
   "metadata": {
    "scrolled": true
   },
   "outputs": [],
   "source": [
    "price_chk = price_chk.find(\"tr\") # \"tr\" = table row"
   ]
  },
  {
   "cell_type": "code",
   "execution_count": 9,
   "metadata": {},
   "outputs": [],
   "source": [
    "price_chk = price_chk.findNext(\"td\") # \"td\" = table data"
   ]
  },
  {
   "cell_type": "code",
   "execution_count": 10,
   "metadata": {},
   "outputs": [],
   "source": [
    "price_chk = price_chk.findNext(\"td\").text"
   ]
  },
  {
   "cell_type": "code",
   "execution_count": 11,
   "metadata": {},
   "outputs": [
    {
     "name": "stdout",
     "output_type": "stream",
     "text": [
      "7,68\n"
     ]
    }
   ],
   "source": [
    "print(price_chk)"
   ]
  },
  {
   "cell_type": "markdown",
   "metadata": {},
   "source": [
    "##### Checking value/price format"
   ]
  },
  {
   "cell_type": "code",
   "execution_count": 12,
   "metadata": {},
   "outputs": [
    {
     "data": {
      "text/plain": [
       "str"
      ]
     },
     "execution_count": 12,
     "metadata": {},
     "output_type": "execute_result"
    }
   ],
   "source": [
    "type(price_chk)"
   ]
  },
  {
   "cell_type": "markdown",
   "metadata": {},
   "source": [
    "##### As we can see, the value that we are scrapping from the site is coming as string.\n",
    "##### Therefore, we need to convert to a float or integer format, in our case, a float value.\n",
    "##### Nevertheless, it is important to check your system number format. In Brazil, the decimal separator is the comma (\",\"), while in USA it is the dot (\".\").\n",
    "##### One way to convert to a float and at the same time to a Brazil format, is to use the float and replace functions"
   ]
  },
  {
   "cell_type": "code",
   "execution_count": 13,
   "metadata": {},
   "outputs": [],
   "source": [
    "key = float(price_chk.replace(',','.'))"
   ]
  },
  {
   "cell_type": "code",
   "execution_count": 14,
   "metadata": {},
   "outputs": [
    {
     "name": "stdout",
     "output_type": "stream",
     "text": [
      "7,68\n"
     ]
    }
   ],
   "source": [
    "print(price_chk)"
   ]
  },
  {
   "cell_type": "markdown",
   "metadata": {},
   "source": [
    "<h>"
   ]
  },
  {
   "cell_type": "markdown",
   "metadata": {},
   "source": [
    "##### Getting the lastest date"
   ]
  },
  {
   "cell_type": "code",
   "execution_count": 15,
   "metadata": {},
   "outputs": [],
   "source": [
    "date = soup.find(\"table\", id='imagenet-indicador1')"
   ]
  },
  {
   "cell_type": "code",
   "execution_count": 16,
   "metadata": {},
   "outputs": [],
   "source": [
    "date = date.find(\"tr\")"
   ]
  },
  {
   "cell_type": "code",
   "execution_count": 17,
   "metadata": {},
   "outputs": [],
   "source": [
    "date = date.findNext(\"td\").text"
   ]
  },
  {
   "cell_type": "code",
   "execution_count": 18,
   "metadata": {},
   "outputs": [
    {
     "data": {
      "text/plain": [
       "'26/07/2021'"
      ]
     },
     "execution_count": 18,
     "metadata": {},
     "output_type": "execute_result"
    }
   ],
   "source": [
    "date"
   ]
  },
  {
   "cell_type": "code",
   "execution_count": 19,
   "metadata": {},
   "outputs": [
    {
     "data": {
      "text/plain": [
       "str"
      ]
     },
     "execution_count": 19,
     "metadata": {},
     "output_type": "execute_result"
    }
   ],
   "source": [
    "type(date)"
   ]
  },
  {
   "cell_type": "markdown",
   "metadata": {},
   "source": [
    "##### Converting string format into date format"
   ]
  },
  {
   "cell_type": "code",
   "execution_count": 20,
   "metadata": {},
   "outputs": [],
   "source": [
    "from datetime import datetime\n",
    "dia = datetime.strptime(date, \"%d/%m/%Y\").date()"
   ]
  },
  {
   "cell_type": "code",
   "execution_count": 21,
   "metadata": {},
   "outputs": [
    {
     "name": "stdout",
     "output_type": "stream",
     "text": [
      "2021-07-26\n"
     ]
    }
   ],
   "source": [
    "print(dia)"
   ]
  },
  {
   "cell_type": "code",
   "execution_count": 22,
   "metadata": {},
   "outputs": [
    {
     "data": {
      "text/plain": [
       "datetime.date"
      ]
     },
     "execution_count": 22,
     "metadata": {},
     "output_type": "execute_result"
    }
   ],
   "source": [
    "type(dia)"
   ]
  },
  {
   "cell_type": "markdown",
   "metadata": {},
   "source": [
    "<h>"
   ]
  },
  {
   "cell_type": "markdown",
   "metadata": {},
   "source": [
    "## Send data to Excel Sheet"
   ]
  },
  {
   "cell_type": "markdown",
   "metadata": {},
   "source": [
    "##### Creating the dataframe"
   ]
  },
  {
   "cell_type": "code",
   "execution_count": null,
   "metadata": {},
   "outputs": [],
   "source": [
    "dados = [[dia,price_chk]]"
   ]
  },
  {
   "cell_type": "code",
   "execution_count": null,
   "metadata": {},
   "outputs": [],
   "source": [
    "print(dados)"
   ]
  },
  {
   "cell_type": "code",
   "execution_count": null,
   "metadata": {},
   "outputs": [],
   "source": [
    "df = pd.DataFrame(dados,columns = ['Time','Chicken meat price'])"
   ]
  },
  {
   "cell_type": "code",
   "execution_count": null,
   "metadata": {},
   "outputs": [],
   "source": [
    "df"
   ]
  },
  {
   "cell_type": "markdown",
   "metadata": {},
   "source": [
    "##### Exporting to Excel"
   ]
  },
  {
   "cell_type": "code",
   "execution_count": null,
   "metadata": {},
   "outputs": [],
   "source": [
    "df.to_excel('Cepea.xlsx', index=False,header =True,  sheet_name='Preços')"
   ]
  },
  {
   "cell_type": "code",
   "execution_count": null,
   "metadata": {},
   "outputs": [],
   "source": [
    "with open(\"Cepea.csv\", \"a\") as csv_file:\n",
    "    writer = csv.writer(csv_file)\n",
    "    writer.writerow([date, key])## now we will write data to the file"
   ]
  },
  {
   "cell_type": "markdown",
   "metadata": {},
   "source": [
    "## Do Graphs"
   ]
  },
  {
   "cell_type": "code",
   "execution_count": null,
   "metadata": {},
   "outputs": [],
   "source": [
    "# https://medium.com/geekculture/web-scraping-tables-in-python-using-beautiful-soup-8bbc31c5803e\n",
    "\n",
    "# https://www.geeksforgeeks.org/scrape-tables-from-any-website-using-python/\n",
    "\n",
    "# https://www.scrapingbee.com/blog/web-scraping-101-with-python/"
   ]
  },
  {
   "cell_type": "markdown",
   "metadata": {},
   "source": [
    "HTML is comprised of tags. A tag is described by an opening < and closing > angular bracket with the name of the tag inside it as a start, while it marks an ending if there is a forward slash / after the opening angular bracket. For example, <div></div>"
   ]
  },
  {
   "cell_type": "markdown",
   "metadata": {},
   "source": [
    "There are two direct ways to access any element (tag) present on the webpage. We can use id, which is unique or we can use a class which can be associated with multiple elements. Here, we can see that <div> has the attribute id as base which acts as a reference to this element while all table cells marked by td have the same class called data"
   ]
  },
  {
   "cell_type": "markdown",
   "metadata": {},
   "source": [
    "Generally useful tags include:\n",
    "<div>: Whenever you include certain content, you enclose it together inside this single entity. It can act as the parent for a lot of different elements. So, if some style changes are applied here, they’ll also reflect in its child elements.\n",
    "<a>: The links are described in this tag, where the webpage that will get loaded on click of this link is mentioned in its property href.\n",
    "<p>: Whenever some information is to be displayed on the webpage as a block of text, this tag is used. Each such tag appears as its own paragraph.\n",
    "<span>: When information is to be displayed inline, we use this tag. When two such tags are placed side by side, they’ll appear in the same line unlike the paragraph tag.\n",
    "<table>: Tables are displayed in HTML with the help of this tag, where data is displayed in cells formed by intersection of rows and columns"
   ]
  },
  {
   "cell_type": "markdown",
   "metadata": {},
   "source": [
    "import datetime\n",
    "data = datetime.datetime.strptime(date, \"%d/%m/%Y\").date()"
   ]
  }
 ],
 "metadata": {
  "kernelspec": {
   "display_name": "Python 3",
   "language": "python",
   "name": "python3"
  },
  "language_info": {
   "codemirror_mode": {
    "name": "ipython",
    "version": 3
   },
   "file_extension": ".py",
   "mimetype": "text/x-python",
   "name": "python",
   "nbconvert_exporter": "python",
   "pygments_lexer": "ipython3",
   "version": "3.8.5"
  }
 },
 "nbformat": 4,
 "nbformat_minor": 4
}
