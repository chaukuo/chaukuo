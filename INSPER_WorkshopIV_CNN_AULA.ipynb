{
  "nbformat": 4,
  "nbformat_minor": 0,
  "metadata": {
    "kernelspec": {
      "display_name": "Python 3",
      "language": "python",
      "name": "python3"
    },
    "language_info": {
      "codemirror_mode": {
        "name": "ipython",
        "version": 3
      },
      "file_extension": ".py",
      "mimetype": "text/x-python",
      "name": "python",
      "nbconvert_exporter": "python",
      "pygments_lexer": "ipython3",
      "version": "3.7.3"
    },
    "colab": {
      "name": "INSPER_WorkshopIV_CNN---AULA.ipynb",
      "provenance": [],
      "include_colab_link": true
    },
    "accelerator": "GPU"
  },
  "cells": [
    {
      "cell_type": "markdown",
      "metadata": {
        "id": "view-in-github",
        "colab_type": "text"
      },
      "source": [
        "<a href=\"https://colab.research.google.com/github/chaukuo/chaukuo/blob/main/INSPER_WorkshopIV_CNN_AULA.ipynb\" target=\"_parent\"><img src=\"https://colab.research.google.com/assets/colab-badge.svg\" alt=\"Open In Colab\"/></a>"
      ]
    },
    {
      "cell_type": "markdown",
      "metadata": {
        "_uuid": "5f8b8216cd5b021c380bc802582bdd519cd6e3c2",
        "id": "Kbcoog8wUeBF"
      },
      "source": [
        "# Insper - Workshop DL : Convolutional Neural Networks (CNNs)\n",
        "\n",
        "## Preparando o dataset\n",
        "\n",
        "Detecção de Derame Pleural em Rx de Tórax\n",
        "\n",
        "    O NIH ChestXray14 contém cerca de 110.000 raio x de tórax anotados em 14 diferentes categorias\n"
      ]
    },
    {
      "cell_type": "code",
      "metadata": {
        "id": "OcxheXyvNS1-",
        "colab": {
          "base_uri": "https://localhost:8080/"
        },
        "outputId": "36506e9c-6e96-4718-dc47-df50043a5e5f"
      },
      "source": [
        "# Baixando os dados\n",
        "!git clone https://github.com/fornaciali/data.git"
      ],
      "execution_count": null,
      "outputs": [
        {
          "output_type": "stream",
          "name": "stdout",
          "text": [
            "Cloning into 'data'...\n",
            "remote: Enumerating objects: 706, done.\u001b[K\n",
            "remote: Total 706 (delta 0), reused 0 (delta 0), pack-reused 706\u001b[K\n",
            "Receiving objects: 100% (706/706), 158.66 MiB | 25.90 MiB/s, done.\n",
            "Checking out files: 100% (700/700), done.\n"
          ]
        }
      ]
    },
    {
      "cell_type": "code",
      "metadata": {
        "id": "7nmH8XaLdyTL",
        "colab": {
          "base_uri": "https://localhost:8080/"
        },
        "outputId": "0b029808-d503-4adb-96d6-fa2774a43fb4"
      },
      "source": [
        "!ls"
      ],
      "execution_count": null,
      "outputs": [
        {
          "output_type": "stream",
          "name": "stdout",
          "text": [
            "data  sample_data\n"
          ]
        }
      ]
    },
    {
      "cell_type": "markdown",
      "metadata": {
        "_uuid": "a3e52f61b51cad3b4ad10f78477d85357dc86347",
        "id": "u-qAsa1iUeBH"
      },
      "source": [
        "### Passo 1: Criando o dataset\n",
        "\n",
        "O conjunto de dados que vamos utilizar consiste de 350 imagens de Rx de tórax normais e 350 Rx com derrame, retiradas e selecionadas do dataset público NIH ChestXray14.\n"
      ]
    },
    {
      "cell_type": "code",
      "metadata": {
        "_uuid": "f293b08b9519c4bcd4d7f2d599255bb8eecbfb1e",
        "id": "jHMr3gvuUeBL",
        "colab": {
          "base_uri": "https://localhost:8080/"
        },
        "outputId": "c0857abd-adba-4bfe-b217-f84da279a418"
      },
      "source": [
        "from glob import glob\n",
        "\n",
        "derrame_dir = '/content/data/effusion/*/*.png' #Define o caminho das pastas que contém as imagens\n",
        "normal_dir = '/content/data/normal/*/*.png'\n",
        "\n",
        "derrame_lista = glob(derrame_dir) #Lista os arquvos dentro de cada uma das pastas, usando o glob()\n",
        "normal_lista = glob(normal_dir)\n",
        "\n",
        "print('Número de casos com derrame: ', len(derrame_lista)) #Visualiza o tamanho da lista\n",
        "print('Número de casos normais: ', len(normal_lista))\n",
        "print ('\\nEtapa Concluída. Vamos para a próxima!')\n",
        "\n",
        "#O resultado esperado é:\n",
        "#Número de casos com derrame:  350\n",
        "#Número de casos normais:  350"
      ],
      "execution_count": null,
      "outputs": [
        {
          "output_type": "stream",
          "name": "stdout",
          "text": [
            "Número de casos com derrame:  350\n",
            "Número de casos normais:  350\n",
            "\n",
            "Etapa Concluída. Vamos para a próxima!\n"
          ]
        }
      ]
    },
    {
      "cell_type": "markdown",
      "metadata": {
        "_uuid": "40de0d7eeac138d17545b0ada95ebafe19e18349",
        "id": "Mrbc2giZf1fX"
      },
      "source": [
        "### Passo 2: Visualizando seus dados\n",
        "\n",
        "Podemos também ver cada uma das imagens do nosso dataset. \n",
        "\n",
        "Vamos visualizar uma imagem com derrame\n",
        "\n",
        "Na linha \"ID_arquivo\" escolha um numero entre 0 e 349 e rode a célula, pode repetir quantas vezes quiser."
      ]
    },
    {
      "cell_type": "code",
      "metadata": {
        "_uuid": "ce8e5c8613df1f2206f320e4e2366697b553e605",
        "id": "YPRYbFl3UeBR",
        "colab": {
          "base_uri": "https://localhost:8080/",
          "height": 323
        },
        "outputId": "b29f0024-796c-4daa-fa06-58108d599603"
      },
      "source": [
        "import cv2 #Para abrir o arquivo de imagem, utilizaremos o openCV, uma biblioteca aberta de visão computacional\n",
        "from matplotlib import pyplot as plt #Biblioteca de plotagem de gráficos chamada a matplotlib\n",
        "\n",
        "#Em 'Classe' digite 'N' para imagens da classe 'Normal', \n",
        "#ou substitua-o por 'D' para imagens com derrame\n",
        "Classe = 'D'\n",
        "\n",
        "#Escolha uma imagem entre 0 e 349:\n",
        "ID_arquivo = 301\n",
        "\n",
        "if Classe == 'N':\n",
        "    classe = 'Normal'\n",
        "    classe_lista = normal_lista\n",
        "elif Classe == 'D':\n",
        "    classe = 'Derrame'\n",
        "    classe_lista = derrame_lista\n",
        "    \n",
        "imagem = cv2.imread(classe_lista[ID_arquivo])\n",
        "plt.imshow(imagem)\n",
        "plt.show()\n",
        "    \n",
        "print('Classe: ',classe)\n",
        "print ('\\nEtapa Concluída. Vamos para a próxima!')\n",
        "\n",
        "#Pode modificar o ID_arquivo ou a Classe para vizualizar outras imagens. Pode repetir quantas vezes quiser"
      ],
      "execution_count": null,
      "outputs": [
        {
          "output_type": "display_data",
          "data": {
            "image/png": "[encoded data removed]",
            "text/plain": [
              "<Figure size 432x288 with 1 Axes>"
            ]
          },
          "metadata": {
            "needs_background": "light"
          }
        },
        {
          "output_type": "stream",
          "name": "stdout",
          "text": [
            "Classe:  Derrame\n",
            "\n",
            "Etapa Concluída. Vamos para a próxima!\n"
          ]
        }
      ]
    },
    {
      "cell_type": "markdown",
      "metadata": {
        "_uuid": "cb6aeaf780c23e7f55872f128d2fcc533a9e312d",
        "id": "dLxxkb7klevm"
      },
      "source": [
        "### Passo 3:  Criando os Lables e transformando nossas imagens em matrizes (números)\n",
        "\n",
        "Precisamos informar explicitamente a qual das categorias as imagens pertecem em uma lista chamada labels (derrame = 1, normal = 0)\n",
        "\n",
        "Faremos isso ao mesmo tempo que salvaremos as imagens numa matriz, pois como as redes neurais tem entrada de tamanho fixo, precisaremos redimensionar todas as imagens para um tamanho único que deve ser exatamente o mesmo da primeira camada da nossa rede neural convolucional (Input Layer), imagine que cada pixel será transformado em um número que vai entrar em cada neuronio da primeira camada, no nosso caso utilizaremos um tamanho de 256 x 256 pixels."
      ]
    },
    {
      "cell_type": "code",
      "metadata": {
        "_uuid": "5a067425c7612e4e5a25a9804fabc02fca4b38b8",
        "id": "Nwjuot4_UeBT",
        "colab": {
          "base_uri": "https://localhost:8080/"
        },
        "outputId": "c88f6c3c-b88b-4ba3-a054-3fa103a01e08"
      },
      "source": [
        "import numpy as np \n",
        "\n",
        "IMAGE_SIZE = (256, 256)\n",
        "\n",
        "dataset = [] # cria uma lista vazia para incluir as imagens do dataset\n",
        "labels = [] # cria uma lista vazia para incluir a categoria a qual cada imagem pertence (0 ou 1)\n",
        "\n",
        "for arquivo in derrame_lista: # para cada arquivo de imagem na lista derrame:\n",
        "    img = cv2.imread(arquivo, cv2.IMREAD_GRAYSCALE) #abre o arquivo em escala de cinzas\n",
        "    img = cv2.resize(img, IMAGE_SIZE) #redimensiona a imagem para 256 x 256\n",
        "    dataset.append(img) #adiciona essa imagem na lista do dataset que criamos acima\n",
        "    labels.append(1) #informa que ela é um caso de derrrame (1)\n",
        "\n",
        "#Agora faremos o mesmo para as imagens sem derrame\n",
        "for arquivo in normal_lista:\n",
        "    img = cv2.imread(arquivo, cv2.IMREAD_GRAYSCALE) \n",
        "    img = cv2.resize(img, IMAGE_SIZE) \n",
        "    dataset.append(img)\n",
        "    labels.append(0) #mas agora informaremos que ela é um caso normal (0)\n",
        "    \n",
        "dataset = np.asarray(dataset, dtype=np.float32) #transforma a lista de variáveis numa matriz\n",
        "labels = np.asarray(labels)\n",
        "\n",
        "for i in range(len(dataset)):\n",
        "  dataset[i] = (dataset[i] - np.average(dataset[i], axis= (0, 1))) / np.std(dataset[i], axis= (0, 1)) #faremos a normalização, dividindo a média pelo desvio padrão\n",
        "  # normalização diminui a variabilizada do dataset, deixando os valores mais próximos um do outro\n",
        "  \n",
        "print('Dimensões da Matriz: ',dataset.shape)\n",
        "print ('\\nEtapa Concluída. Vamos para a próxima!')\n",
        "\n",
        "#Vamos ver qual o tamanho dessa matriz 'dataset'\n",
        "#Esperamos que a primeira dimensão dela seja de 700 (350 casos de derrame e 350 normais)\n",
        "#A segunda e a terceira dimensões devem ser 256.\n",
        "\n",
        "# a saída esperada é (700, 256, 256)"
      ],
      "execution_count": null,
      "outputs": [
        {
          "output_type": "stream",
          "name": "stdout",
          "text": [
            "Dimensões da Matriz:  (700, 256, 256)\n",
            "\n",
            "Etapa Concluída. Vamos para a próxima!\n"
          ]
        }
      ]
    },
    {
      "cell_type": "markdown",
      "metadata": {
        "_uuid": "1c28eb34a8fa1c0856d625d51f99d757d9f034ae",
        "id": "iC4uu87DUeBZ"
      },
      "source": [
        "### Passo 4: Dividindo o dataset nos grupos Treinamento/Validação/Teste"
      ]
    },
    {
      "cell_type": "code",
      "metadata": {
        "_uuid": "3c42d1f324a385d467f73cb3d6712ff3769e62bd",
        "id": "gTnE2xwHUeBa",
        "colab": {
          "base_uri": "https://localhost:8080/"
        },
        "outputId": "2e589d2a-4918-4bad-dc0c-e4de6e372d9c"
      },
      "source": [
        "from sklearn.model_selection import train_test_split\n",
        "from sklearn.utils import shuffle\n",
        "\n",
        "#Vamos dividir o grupo de treino, validação e teste na proporção de cerca de 70%/15%/15%, \n",
        "#com valores aproximados para ficarmos com números redondos de 500/100/100\n",
        "\n",
        "dataset_train, dataset_test, labels_train, labels_test = train_test_split(dataset[:,...,np.newaxis], labels[:,...,np.newaxis], test_size=0.142, random_state=80)\n",
        "dataset_train, dataset_val, labels_train, labels_val = train_test_split(dataset_train, labels_train, test_size=0.1651, random_state=80)\n",
        "\n",
        "print('(Número de imagens, Imagem_X, Imagem_Y, canais de cor) (Número de labels, 1)')\n",
        "print(dataset_train.shape, labels_train.shape)\n",
        "print(dataset_val.shape, labels_val.shape)\n",
        "print(dataset_test.shape, labels_test.shape)\n",
        "\n",
        "#Você deve ver a seguinte saída:\n",
        "#(500, 256, 256, 1) (500,1)\n",
        "#(100, 256, 256, 1) (100,1)\n",
        "#(100, 256, 256, 1) (100,1)\n",
        "\n",
        "print ('\\nEtapa Concluída. Vamos para a próxima!')"
      ],
      "execution_count": null,
      "outputs": [
        {
          "output_type": "stream",
          "name": "stdout",
          "text": [
            "(Número de imagens, Imagem_X, Imagem_Y, canais de cor) (Número de labels, 1)\n",
            "(500, 256, 256, 1) (500, 1)\n",
            "(100, 256, 256, 1) (100, 1)\n",
            "(100, 256, 256, 1) (100, 1)\n",
            "\n",
            "Etapa Concluída. Vamos para a próxima!\n"
          ]
        }
      ]
    },
    {
      "cell_type": "markdown",
      "metadata": {
        "_uuid": "038b6eeaa1479b1fdcf8c0f3a132f28868ecf37b",
        "id": "RLEXPet6qtPq"
      },
      "source": [
        "## Data Augmentation\n",
        "\n",
        "Nós temos um dataset pequeno, o que eleva a chance de overfiting do nosso modelo, ou seja, nosso modelo fica muito especializado apenes Rx de tórax que apresentamos, não conseguindo generalizar para os mais variados Rx de tórax do mundo real, com posições diferentes, etc...\n",
        "\n",
        "Para tentar aumentar artificialmente o número de exemplos, vamos utilizar uma técnica chamada Data Augmentation, que levemente roda e muda a posição da imagem aleatóriamente antes de apresentar para a rede neural. "
      ]
    },
    {
      "cell_type": "code",
      "metadata": {
        "_uuid": "c9ccb5615c26914bf127d10c620805dcd1d838a6",
        "id": "4Ymx_7LTJMv-",
        "colab": {
          "base_uri": "https://localhost:8080/"
        },
        "outputId": "19b720be-8987-4791-f230-5a1b563faee8"
      },
      "source": [
        "from keras.preprocessing.image import ImageDataGenerator\n",
        "\n",
        "#Aqui podemos definir diferentes variáveis que vão definir como as imagens  \n",
        "#vão mudar em rotação, \"corte\" ou zoom.\n",
        "\n",
        "datagen = ImageDataGenerator(\n",
        "    rotation_range=20,\n",
        "    width_shift_range=0.2,\n",
        "    height_shift_range=0.2,\n",
        "    zoom_range=0.2,\n",
        "    horizontal_flip=True)\n",
        "\n",
        "print ('\\nEtapa Concluída. Vamos para a próxima!')"
      ],
      "execution_count": null,
      "outputs": [
        {
          "output_type": "stream",
          "name": "stdout",
          "text": [
            "\n",
            "Etapa Concluída. Vamos para a próxima!\n"
          ]
        }
      ]
    },
    {
      "cell_type": "markdown",
      "metadata": {
        "_uuid": "1a2e837e31f43cc61ba781f217defdb7fc3e19b0",
        "id": "PA2NK3_HUeBV"
      },
      "source": [
        "## Criando a estrutura da CNN"
      ]
    },
    {
      "cell_type": "code",
      "metadata": {
        "_uuid": "cefbbb6eda1c59fcd4404a1cef58569b1ab53a44",
        "id": "jU-OirSmvIRZ",
        "colab": {
          "base_uri": "https://localhost:8080/"
        },
        "outputId": "fcf89a19-86b5-4682-fa49-191c215e9434"
      },
      "source": [
        "import tensorflow as tf\n",
        "from tensorflow import keras\n",
        "\n",
        "from keras.models import Sequential\n",
        "from tensorflow.keras.optimizers import Adam\n",
        "from keras.layers.core import Dense, Dropout\n",
        "from keras.layers.convolutional import Conv2D\n",
        "from keras.layers.pooling import MaxPool2D, GlobalAveragePooling2D\n",
        "from keras.models import Model\n",
        "from keras.layers import Input, Concatenate, add\n",
        "from keras.callbacks import ModelCheckpoint\n",
        "from keras.layers import Activation, Dense, LeakyReLU\n",
        "from keras.utils.np_utils import to_categorical\n",
        "\n",
        "#Agora criaremos a estrutura da rede neural convolucional\n",
        "\n",
        "#A primeira camada define o tamanho da camada de entrada da rede\n",
        "imgs = Input(shape=(256,256,1))\n",
        "\n",
        "#Lembre que a nossa matriz com todas as 556 imagens de cada categoria tem o formato (556, 256, 256)\n",
        "#Nesse caso a entrada (input) da rede é cada imagem individualmente\n",
        "#Ou seja, uma imagem de tamanho 256 x 256 pixels e 1 canal de cor (escala de cinzas) (256, 256, 1)\n",
        "\n",
        "#Agora vamos adicionar a primeira camada convolucional\n",
        "x = Conv2D(8, 3, padding='same', activation='relu')(imgs)\n",
        "\n",
        "#Em seguida, adicionamos uma camada MaxPool, que irá reduzir em 75% o tamanho da saída da camada convolucional.\n",
        "#Fazemos isso para evitar que o número de parâmetros da rede aumente demais.\n",
        "x = MaxPool2D()(x)\n",
        "\n",
        "#Adicionaremos mais camadas convolucionais, seguidas de MaxPool\n",
        "x = Conv2D(8, 3, padding='same', activation='relu')(x)\n",
        "x = MaxPool2D()(x)\n",
        "x = Conv2D(12, 3, padding='same', activation='relu')(x)\n",
        "x = MaxPool2D()(x)\n",
        "x = Conv2D(12, 3, padding='same', activation='relu')(x)\n",
        "x = MaxPool2D()(x)\n",
        "x = Conv2D(20, 5, padding='same', activation='relu')(x)\n",
        "x = MaxPool2D()(x)\n",
        "x = Conv2D(20, 5, padding='same', activation='relu')(x)\n",
        "x = MaxPool2D()(x)\n",
        "x = Conv2D(50, 5, padding='same', activation='relu')(x)\n",
        "x = GlobalAveragePooling2D()(x)\n",
        "\n",
        "#Finalmente adicionaremos duas camadas densas, chamadas de 'Fully Connected Layers'.\n",
        "#Essas camadas são redes neurais não convolucionais.\n",
        "#Estas camadas recebem os parâmetros das primeiras e ajudam a realizar a classificação dos resultados\n",
        "x = Dense(128, activation='relu')(x)\n",
        "\n",
        "#Dropout é uma técnica para reduzir overfitting onde excluímos parte dos neurônios de uma camada.\n",
        "x = Dropout(0.6)(x)\n",
        "x = Dense(32, activation='relu')(x)\n",
        "\n",
        "#Nossa camada de \"output\" tem o argumento \"1\" pois a saída da rede é a classificação derrame x não-derrame\n",
        "#Ou seja, a saída da rede é apenas um número (0 ou 1)\n",
        "outputs = Dense(1, activation='sigmoid')(x)\n",
        "\n",
        "inputs = imgs\n",
        "\n",
        "#Por fim, definiremos nossa rede com a entrada e a saída da rede\n",
        "RadEinstein_CNN = Model(inputs=inputs, outputs=outputs)\n",
        "\n",
        "#Agora, definiremos o método de otimização da rede: ADAM, com a taxa de aprendizado e de decaimento\n",
        "#Cada um desses parâmetros é ajustável.\n",
        "custom_adam = Adam(learning_rate=0.0005, decay=0.0002)\n",
        "\n",
        "#Compila o modelo definindo o tipo de função 'loss', otimização e a métrica.\n",
        "RadEinstein_CNN.compile(loss='binary_crossentropy', optimizer=custom_adam, metrics=['acc'])\n",
        "\n",
        "print('Veja abaixo as camadas da sua rede neural' )\n",
        "print('Note que cada camada contém uma quantidade diferente de parâmetros a serem treinados')\n",
        "print('No final da lista, note que nossa rede contém um total de 54.627 parâmetros treináveis')\n",
        "print ('\\nRadEinstein_CNN Sumary')\n",
        "RadEinstein_CNN.summary()\n",
        "print ('\\nEtapa Concluída. Vá para a próxima!')"
      ],
      "execution_count": null,
      "outputs": [
        {
          "output_type": "stream",
          "name": "stdout",
          "text": [
            "Veja abaixo as camadas da sua rede neural\n",
            "Note que cada camada contém uma quantidade diferente de parâmetros a serem treinados\n",
            "No final da lista, note que nossa rede contém um total de 54.627 parâmetros treináveis\n",
            "\n",
            "RadEinstein_CNN Sumary\n",
            "Model: \"model\"\n",
            "_________________________________________________________________\n",
            "Layer (type)                 Output Shape              Param #   \n",
            "=================================================================\n",
            "input_1 (InputLayer)         [(None, 256, 256, 1)]     0         \n",
            "_________________________________________________________________\n",
            "conv2d (Conv2D)              (None, 256, 256, 8)       80        \n",
            "_________________________________________________________________\n",
            "max_pooling2d (MaxPooling2D) (None, 128, 128, 8)       0         \n",
            "_________________________________________________________________\n",
            "conv2d_1 (Conv2D)            (None, 128, 128, 8)       584       \n",
            "_________________________________________________________________\n",
            "max_pooling2d_1 (MaxPooling2 (None, 64, 64, 8)         0         \n",
            "_________________________________________________________________\n",
            "conv2d_2 (Conv2D)            (None, 64, 64, 12)        876       \n",
            "_________________________________________________________________\n",
            "max_pooling2d_2 (MaxPooling2 (None, 32, 32, 12)        0         \n",
            "_________________________________________________________________\n",
            "conv2d_3 (Conv2D)            (None, 32, 32, 12)        1308      \n",
            "_________________________________________________________________\n",
            "max_pooling2d_3 (MaxPooling2 (None, 16, 16, 12)        0         \n",
            "_________________________________________________________________\n",
            "conv2d_4 (Conv2D)            (None, 16, 16, 20)        6020      \n",
            "_________________________________________________________________\n",
            "max_pooling2d_4 (MaxPooling2 (None, 8, 8, 20)          0         \n",
            "_________________________________________________________________\n",
            "conv2d_5 (Conv2D)            (None, 8, 8, 20)          10020     \n",
            "_________________________________________________________________\n",
            "max_pooling2d_5 (MaxPooling2 (None, 4, 4, 20)          0         \n",
            "_________________________________________________________________\n",
            "conv2d_6 (Conv2D)            (None, 4, 4, 50)          25050     \n",
            "_________________________________________________________________\n",
            "global_average_pooling2d (Gl (None, 50)                0         \n",
            "_________________________________________________________________\n",
            "dense (Dense)                (None, 128)               6528      \n",
            "_________________________________________________________________\n",
            "dropout (Dropout)            (None, 128)               0         \n",
            "_________________________________________________________________\n",
            "dense_1 (Dense)              (None, 32)                4128      \n",
            "_________________________________________________________________\n",
            "dense_2 (Dense)              (None, 1)                 33        \n",
            "=================================================================\n",
            "Total params: 54,627\n",
            "Trainable params: 54,627\n",
            "Non-trainable params: 0\n",
            "_________________________________________________________________\n",
            "\n",
            "Etapa Concluída. Vá para a próxima!\n"
          ]
        }
      ]
    },
    {
      "cell_type": "markdown",
      "metadata": {
        "_uuid": "511623def5b4a47fe80e86599221e3d9c80d8ee6",
        "id": "ML6EuUk_UeBd"
      },
      "source": [
        "## Treinando a CNN"
      ]
    },
    {
      "cell_type": "markdown",
      "metadata": {
        "_uuid": "c87661c46cb522a489b9adb0aee3dbfdd870cae2",
        "id": "mnAn5bE8UeBe"
      },
      "source": [
        "Durante o treinamento da rede, os pesos das sinapses de todas as camadas são atualizados.\n",
        "\n",
        "Após a conclusão do treinamento, cada filtro representará uma característica de imagem a ser procurada nas imagens do nosso dataset.\n",
        "\n",
        "Procure na linha \"hist\" que definimos alguns hyperparameters, como por exemplo o número de epochs para 60, que significa por quantas repetições (épocas) faremos o treinamento. Se quiser treinar um pouco mais a sua rede, altere o número para até 100 epochs, e vamos ver os diferentes resultados.\n",
        "\n",
        "Com estes parâmetros, deverá levar entre 5 e 10 minutos para treinar seu modelo."
      ]
    },
    {
      "cell_type": "code",
      "metadata": {
        "_uuid": "7759dfd779ef0e8f73809dd61a10859315e213a3",
        "id": "UsOO98YmUeBf",
        "colab": {
          "base_uri": "https://localhost:8080/"
        },
        "outputId": "6fb1b253-9ed3-4325-bbdf-585b9bb8e40d"
      },
      "source": [
        "import time #Função time para medirmos o tempo de treinamento\n",
        "\n",
        "checkpointer = ModelCheckpoint(filepath='Melhor_modelo.hdf5', monitor='val_loss',\n",
        "                               verbose=1, save_best_only=True) #Salvar o melhor modelo que for encontrado durante o treino\n",
        "\n",
        "print('Treinando a Rede RadEinstein_CNN:')\n",
        "\n",
        "Valida = (dataset_val, labels_val)\n",
        "\n",
        "#Finalmente vamos treinar a nossa rede\n",
        "#Se quiser treinar sua rede um pouco mais, altere o número de epochs, e vamos ver os diferentes resultados.\n",
        "\n",
        "start_time = time.time()\n",
        "import tensorflow as tf\n",
        "with tf.device('/device:GPU:0'):  #/cpu:0\n",
        "  hist = RadEinstein_CNN.fit(datagen.flow(dataset_train, labels_train, \n",
        "                                          batch_size=16), \n",
        "                             steps_per_epoch = len(dataset_train)//16, \n",
        "                             epochs=10, \n",
        "                             validation_data= (dataset_val, labels_val), callbacks=[checkpointer])"
      ],
      "execution_count": null,
      "outputs": [
        {
          "output_type": "stream",
          "name": "stdout",
          "text": [
            "Treinando a Rede RadEinstein_CNN:\n",
            "Epoch 1/10\n",
            "31/31 [==============================] - 18s 544ms/step - loss: 0.6925 - acc: 0.5289 - val_loss: 0.6926 - val_acc: 0.4800\n",
            "\n",
            "Epoch 00001: val_loss improved from inf to 0.69262, saving model to Melhor_modelo.hdf5\n",
            "Epoch 2/10\n",
            "31/31 [==============================] - 17s 551ms/step - loss: 0.6967 - acc: 0.4752 - val_loss: 0.6920 - val_acc: 0.5200\n",
            "\n",
            "Epoch 00002: val_loss improved from 0.69262 to 0.69202, saving model to Melhor_modelo.hdf5\n",
            "Epoch 3/10\n",
            "31/31 [==============================] - 17s 538ms/step - loss: 0.6931 - acc: 0.5041 - val_loss: 0.6921 - val_acc: 0.6700\n",
            "\n",
            "Epoch 00003: val_loss did not improve from 0.69202\n",
            "Epoch 4/10\n",
            "31/31 [==============================] - 17s 536ms/step - loss: 0.6919 - acc: 0.5083 - val_loss: 0.6902 - val_acc: 0.5300\n",
            "\n",
            "Epoch 00004: val_loss improved from 0.69202 to 0.69023, saving model to Melhor_modelo.hdf5\n",
            "Epoch 5/10\n",
            "31/31 [==============================] - 17s 538ms/step - loss: 0.6917 - acc: 0.5351 - val_loss: 0.6870 - val_acc: 0.6200\n",
            "\n",
            "Epoch 00005: val_loss improved from 0.69023 to 0.68697, saving model to Melhor_modelo.hdf5\n",
            "Epoch 6/10\n",
            "31/31 [==============================] - 17s 539ms/step - loss: 0.6905 - acc: 0.5558 - val_loss: 0.6781 - val_acc: 0.7200\n",
            "\n",
            "Epoch 00006: val_loss improved from 0.68697 to 0.67805, saving model to Melhor_modelo.hdf5\n",
            "Epoch 7/10\n",
            "31/31 [==============================] - 17s 538ms/step - loss: 0.6886 - acc: 0.5496 - val_loss: 0.6803 - val_acc: 0.5200\n",
            "\n",
            "Epoch 00007: val_loss did not improve from 0.67805\n",
            "Epoch 8/10\n",
            "31/31 [==============================] - 17s 537ms/step - loss: 0.6898 - acc: 0.5517 - val_loss: 0.6665 - val_acc: 0.7400\n",
            "\n",
            "Epoch 00008: val_loss improved from 0.67805 to 0.66653, saving model to Melhor_modelo.hdf5\n",
            "Epoch 9/10\n",
            "31/31 [==============================] - 17s 537ms/step - loss: 0.6683 - acc: 0.6384 - val_loss: 0.5817 - val_acc: 0.7200\n",
            "\n",
            "Epoch 00009: val_loss improved from 0.66653 to 0.58172, saving model to Melhor_modelo.hdf5\n",
            "Epoch 10/10\n",
            "31/31 [==============================] - 17s 546ms/step - loss: 0.6238 - acc: 0.6411 - val_loss: 0.5714 - val_acc: 0.6900\n",
            "\n",
            "Epoch 00010: val_loss improved from 0.58172 to 0.57143, saving model to Melhor_modelo.hdf5\n"
          ]
        }
      ]
    },
    {
      "cell_type": "code",
      "metadata": {
        "id": "4STO4iaWHznS",
        "colab": {
          "base_uri": "https://localhost:8080/",
          "height": 615
        },
        "outputId": "51a10f30-940f-43b5-91de-58402df6778c"
      },
      "source": [
        "#Definimos o treinamento com o dataset de treino, realizando validação no dataset de validação.\n",
        "#O treinamento não usa o dataset de teste, ficará guardado para avaliarmos nossa rede depois.\n",
        "\n",
        "tempo = str(time.strftime(\"%H:%M:%S\", time.gmtime(time.time() - start_time)))\n",
        "print('')\n",
        "print('Treino finalizado em %s' % tempo)\n",
        "\n",
        "#Por fim, plotamos os resultados de evolução da medida de erro (loss) e acurácia ao longo dos epochs\n",
        "plt.plot(hist.history['loss'], 'b-', label='train loss')\n",
        "plt.plot(hist.history['val_loss'], 'r-', label='val loss')\n",
        "plt.ylabel('loss')\n",
        "plt.xlabel('epoch')\n",
        "plt.legend()\n",
        "plt.show()\n",
        "\n",
        "plt.plot(hist.history['acc'], 'b-', label='train accuracy')\n",
        "plt.plot(hist.history['val_acc'], 'r-', label='val accuracy')\n",
        "plt.ylabel('acc')\n",
        "plt.xlabel('epoch')\n",
        "plt.legend()\n",
        "plt.show()\n",
        "\n",
        "print ('\\nAgora vamos avaliar o modelo no dataset de teste. Vamos para a próximo comando.')"
      ],
      "execution_count": null,
      "outputs": [
        {
          "output_type": "stream",
          "name": "stdout",
          "text": [
            "\n",
            "Treino finalizado em 00:03:40\n"
          ]
        },
        {
          "output_type": "display_data",
          "data": {
            "image/png": "[encoded data removed]",
            "text/plain": [
              "<Figure size 432x288 with 1 Axes>"
            ]
          },
          "metadata": {
            "needs_background": "light"
          }
        },
        {
          "output_type": "display_data",
          "data": {
            "image/png": "[encoded data removed]",
            "text/plain": [
              "<Figure size 432x288 with 1 Axes>"
            ]
          },
          "metadata": {
            "needs_background": "light"
          }
        },
        {
          "output_type": "stream",
          "name": "stdout",
          "text": [
            "\n",
            "Agora vamos avaliar o modelo no dataset de teste. Vamos para a próximo comando.\n"
          ]
        }
      ]
    },
    {
      "cell_type": "markdown",
      "metadata": {
        "_uuid": "62bac077b9b6fa2d27dc7312e293a393d4b7d52a",
        "id": "dWTfJB-dUeBi"
      },
      "source": [
        "## Avaliando o modelo"
      ]
    },
    {
      "cell_type": "markdown",
      "metadata": {
        "_uuid": "ca665061f5e36d536f854795f510a26109bb2a64",
        "id": "XeuNqyylUeBj"
      },
      "source": [
        "Neste passo, iremos apresentar todo o dataset de teste para o modelo que criamos, de forma a calcular a acurácia da nossa rede neural num grupo de imagens que o modelo nunca viu antes."
      ]
    },
    {
      "cell_type": "code",
      "metadata": {
        "_uuid": "4247c6ac8ad2403099b52b3e45e939b32acec5bc",
        "id": "xykHvjiaUeBl",
        "colab": {
          "base_uri": "https://localhost:8080/"
        },
        "outputId": "02bb4a3b-568d-4cf9-b49b-005b7391afd1"
      },
      "source": [
        "from keras.models import load_model #Vamos importar a função do keras que abre modelos salvos previamente\n",
        "\n",
        "melhor_modelo = load_model('Melhor_modelo.hdf5') #Abrimos o melhor modelo que salvamos no treinamento\n",
        "\n",
        "print ('\\nPesos da rede neural atualizados para os da melhor época.')\n",
        "print ('\\nEtapa Concluída. Vamos para a próxima!')"
      ],
      "execution_count": null,
      "outputs": [
        {
          "output_type": "stream",
          "name": "stdout",
          "text": [
            "\n",
            "Pesos da rede neural atualizados para os da melhor época.\n",
            "\n",
            "Etapa Concluída. Vamos para a próxima!\n"
          ]
        }
      ]
    },
    {
      "cell_type": "code",
      "metadata": {
        "_uuid": "5e25b5a3cece7953f026d0c0bc9836de0167a87b",
        "id": "D-N8kbE1UeBn",
        "colab": {
          "base_uri": "https://localhost:8080/"
        },
        "outputId": "46dd3cbd-ef49-4ca9-df18-939e07d2d89f"
      },
      "source": [
        "#Usamos a função evaluate para avaliar a acurácia do nosso modelo no grupo de teste\n",
        "print('Acurácia no grupo de teste: ', melhor_modelo.evaluate(dataset_test, labels_test, verbose=0)[1])\n",
        "\n",
        "print ('\\033[1m' + 'Etapa Concluída.')"
      ],
      "execution_count": null,
      "outputs": [
        {
          "output_type": "stream",
          "name": "stdout",
          "text": [
            "Acurácia no grupo de teste:  0.6399999856948853\n",
            "\u001b[1mEtapa Concluída.\n"
          ]
        }
      ]
    }
  ]
}